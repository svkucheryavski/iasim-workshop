{
 "cells": [
  {
   "cell_type": "markdown",
   "metadata": {},
   "source": [
    "# Python basics\n",
    "\n",
    "This notebook contains a very brief information about Python. Use it in case if you need a quick and simple reference about main data types and language patterns. "
   ]
  },
  {
   "cell_type": "markdown",
   "metadata": {},
   "source": [
    "## Variables\n",
    "\n",
    "All values you enter, read from files or create by doing calculations must be saved into variables. Variable is a place in computer memory where the value is saved. Python remembers the position of this place and gives it a label — *variable name*.\n",
    "\n",
    "To create a new variable use *assignment* operator, `=`. Here are some examples:"
   ]
  },
  {
   "cell_type": "code",
   "execution_count": null,
   "metadata": {},
   "outputs": [],
   "source": [
    "# create numeric variable with name \"a\"\n",
    "a = 10\n",
    "a"
   ]
  },
  {
   "cell_type": "code",
   "execution_count": null,
   "metadata": {},
   "outputs": [],
   "source": [
    "# create text variable with name \"last_name\"\n",
    "last_name = \"Peter\"\n",
    "last_name"
   ]
  },
  {
   "cell_type": "markdown",
   "metadata": {},
   "source": [
    "Variable name should start with a letter, and can contain letters, numbers, and underscores.\n",
    "\n",
    "### Primitive types\n",
    "\n",
    "Depending of what kind of information you save into variable they have different *types*. The simples types are:\n",
    "\n",
    "* *integer* — contain whole numbers (can be signed, and unsigned), e.g. `a = 10`.\n",
    "* *float* — contain real numbers, e.g. `pi = 3.14`.\n",
    "* *string* — contain text symbols, e.g. `message = \"Hello, world!\"`.\n",
    "* *boolean* — contain logical values `True` and `False`.\n",
    "\n",
    "Here are some examples:"
   ]
  },
  {
   "cell_type": "code",
   "execution_count": null,
   "metadata": {},
   "outputs": [],
   "source": [
    "a = 10\n",
    "type(a)"
   ]
  },
  {
   "cell_type": "code",
   "execution_count": null,
   "metadata": {},
   "outputs": [],
   "source": [
    "b = 10.5\n",
    "type(b)"
   ]
  },
  {
   "cell_type": "code",
   "execution_count": null,
   "metadata": {},
   "outputs": [],
   "source": [
    "c = \"Peter\"\n",
    "type(c)"
   ]
  },
  {
   "cell_type": "code",
   "execution_count": null,
   "metadata": {},
   "outputs": [],
   "source": [
    "d = True\n",
    "type(d)"
   ]
  },
  {
   "cell_type": "markdown",
   "metadata": {},
   "source": [
    "Some of the types can be converted into others, for example floating point numbers to integers:"
   ]
  },
  {
   "cell_type": "code",
   "execution_count": null,
   "metadata": {},
   "outputs": [],
   "source": [
    "a = 10.567\n",
    "b = int(a)\n",
    "(a, b)"
   ]
  },
  {
   "cell_type": "code",
   "execution_count": null,
   "metadata": {},
   "outputs": [],
   "source": [
    "(type(a), type(b))"
   ]
  },
  {
   "cell_type": "markdown",
   "metadata": {},
   "source": [
    "As well as any number can be converted to string:"
   ]
  },
  {
   "cell_type": "code",
   "execution_count": null,
   "metadata": {},
   "outputs": [],
   "source": [
    "a = 10.567\n",
    "b = str(a)\n",
    "(a, b)"
   ]
  },
  {
   "cell_type": "code",
   "execution_count": null,
   "metadata": {},
   "outputs": [],
   "source": [
    "(type(a), type(b))"
   ]
  },
  {
   "cell_type": "markdown",
   "metadata": {},
   "source": [
    "### Containers\n",
    "\n",
    "If variables of primitive types can contain only one value, containers can be used to combine several values (or several variables or even several containers) together. \n",
    "\n",
    "The simplest container in Python is a *tuple*, which you create by using `(` and `)`. For example:\n"
   ]
  },
  {
   "cell_type": "code",
   "execution_count": null,
   "metadata": {},
   "outputs": [],
   "source": [
    "fruit = (\"apple\", \"pear\", \"lemon\")\n",
    "fruit"
   ]
  },
  {
   "cell_type": "code",
   "execution_count": null,
   "metadata": {},
   "outputs": [],
   "source": [
    "type(fruit)"
   ]
  },
  {
   "cell_type": "markdown",
   "metadata": {},
   "source": [
    "You saw already tuples in the code examples above, we used them to show two variables at the same time. \n",
    "\n",
    "The second type of container, which is very similar to tuple is a list. Lists are created similar to tuples but with squared brackets: `[` and `]`:"
   ]
  },
  {
   "cell_type": "code",
   "execution_count": null,
   "metadata": {},
   "outputs": [],
   "source": [
    "vegs = [\"cucumber\", \"tomato\", \"squash\"]\n",
    "vegs"
   ]
  },
  {
   "cell_type": "code",
   "execution_count": null,
   "metadata": {},
   "outputs": [],
   "source": [
    "type(vegs)"
   ]
  },
  {
   "cell_type": "markdown",
   "metadata": {},
   "source": [
    "In bot tuples and lists every value has an index. The indices in Python alway start to 0, so the first value has index 0, second has index 1, etc. You can get a value from a tuple or from a list by specifying its index:"
   ]
  },
  {
   "cell_type": "code",
   "execution_count": null,
   "metadata": {},
   "outputs": [],
   "source": [
    "v = vegs[1]\n",
    "v"
   ]
  },
  {
   "cell_type": "code",
   "execution_count": null,
   "metadata": {},
   "outputs": [],
   "source": [
    "f = fruit[0]\n",
    "f"
   ]
  },
  {
   "cell_type": "markdown",
   "metadata": {},
   "source": [
    "Pay attention that although tuples are created with symbols `(` `)` to access a value from a tuple you need to specify its index in squared brackets.\n",
    "\n",
    "What is the difference between tuples and lists? Lists can be modified, meaning you can replace any value inside the list with a new one:"
   ]
  },
  {
   "cell_type": "code",
   "execution_count": null,
   "metadata": {},
   "outputs": [],
   "source": [
    "vegs[1] = \"potato\"\n",
    "vegs"
   ]
  },
  {
   "cell_type": "markdown",
   "metadata": {},
   "source": [
    "While tuples are immutable, meaning you can not change its values after you created a tuple:"
   ]
  },
  {
   "cell_type": "code",
   "execution_count": null,
   "metadata": {},
   "outputs": [],
   "source": [
    "# this will give an error message!\n",
    "fruit[1] = \"orange\""
   ]
  },
  {
   "cell_type": "markdown",
   "metadata": {},
   "source": [
    "You can also extend and shrink the lists:"
   ]
  },
  {
   "cell_type": "code",
   "execution_count": null,
   "metadata": {},
   "outputs": [],
   "source": [
    "# add a new value to the end of the list\n",
    "vegs.append(\"carrot\")\n",
    "vegs"
   ]
  },
  {
   "cell_type": "code",
   "execution_count": null,
   "metadata": {},
   "outputs": [],
   "source": [
    "# remove value with index 2 (\"squash\") from the list\n",
    "vegs.pop(2)\n",
    "vegs"
   ]
  },
  {
   "cell_type": "markdown",
   "metadata": {},
   "source": [
    "\n",
    "\n",
    ">You can think about a variable as a single fruit, that you can get from a grocery stand in a supermarket. Containers are plastic bags or boxes you can use to pack several fruit together as a single item. Thus if it is a plastic bag where you can put any number of fruits, remove or replace some later it is an example of a list. If it is a sealed bag, where you can not replace a fruit, it is an example of the tuple.\n",
    "\n",
    "Both lists and tuples can be unpacked — so every element of the container is assigned to separate variable:"
   ]
  },
  {
   "cell_type": "code",
   "execution_count": null,
   "metadata": {},
   "outputs": [],
   "source": [
    "person = (\"Peter\", 170, 79)\n",
    "person"
   ]
  },
  {
   "cell_type": "code",
   "execution_count": null,
   "metadata": {},
   "outputs": [],
   "source": [
    "name, height, weight = person\n",
    "print(name)"
   ]
  },
  {
   "cell_type": "markdown",
   "metadata": {},
   "source": [
    "If you want to unpack only part of a tuple or a list, e.g. take first and third elements, use underscore `_` for the elements you do not need to keep in a separate variable:"
   ]
  },
  {
   "cell_type": "code",
   "execution_count": null,
   "metadata": {},
   "outputs": [],
   "source": [
    "_, height, weight = person\n",
    "weight"
   ]
  },
  {
   "cell_type": "markdown",
   "metadata": {},
   "source": [
    "\n",
    "\n",
    "Python has another type of container — a *dictionary*. Dictionary is similar to list but every value in the dictionary has a text id — a *key*. Dictionaries are created using `{` `}` and then listing keys and values inside.\n",
    "\n",
    "Here is an example:"
   ]
  },
  {
   "cell_type": "code",
   "execution_count": null,
   "metadata": {},
   "outputs": [],
   "source": [
    "dinner = {\"starter\": \"soup\", \"main dish\": \"paella\", \"desser\": \"apple pie\"}\n",
    "dinner"
   ]
  },
  {
   "cell_type": "code",
   "execution_count": null,
   "metadata": {},
   "outputs": [],
   "source": [
    "type(dinner)"
   ]
  },
  {
   "cell_type": "markdown",
   "metadata": {},
   "source": [
    "Access to the dictionary values is similar to tuples and lists by you need to provide the key instead of index:"
   ]
  },
  {
   "cell_type": "code",
   "execution_count": null,
   "metadata": {},
   "outputs": [],
   "source": [
    "dinner[\"starter\"]"
   ]
  },
  {
   "cell_type": "markdown",
   "metadata": {},
   "source": [
    "All three containers have a method `len()` which shows number of elements in the container:"
   ]
  },
  {
   "cell_type": "code",
   "execution_count": null,
   "metadata": {},
   "outputs": [],
   "source": [
    "len(dinner)"
   ]
  },
  {
   "cell_type": "markdown",
   "metadata": {},
   "source": [
    "Containers may also consist of containers, you can nest lists inside lists, make list of tuples or dictionary of lists. Here are some examples:"
   ]
  },
  {
   "cell_type": "code",
   "execution_count": null,
   "metadata": {},
   "outputs": [],
   "source": [
    "# create lists with values\n",
    "height = [180, 190, 176, 181]\n",
    "weight = [81, 88, 75, 84]\n",
    "names = [\"Bob\", \"Anne\", \"Peter\", \"Lena\"]\n",
    "\n",
    "# create dictionary with lists\n",
    "people = {\"height\": height, \"weight\": weight, \"names\": names}\n",
    "people"
   ]
  },
  {
   "cell_type": "code",
   "execution_count": null,
   "metadata": {},
   "outputs": [],
   "source": [
    "people[\"names\"]"
   ]
  },
  {
   "cell_type": "code",
   "execution_count": null,
   "metadata": {},
   "outputs": [],
   "source": [
    "persons = [\n",
    "    (\"Bob\", 170, 80),\n",
    "    (\"Peter\", 180, 78),\n",
    "    (\"Anne\", 175, 70)\n",
    "]\n",
    "persons"
   ]
  },
  {
   "cell_type": "code",
   "execution_count": null,
   "metadata": {},
   "outputs": [],
   "source": [
    "persons[1]"
   ]
  },
  {
   "cell_type": "markdown",
   "metadata": {},
   "source": [
    "## Functions\n",
    "\n",
    "Functions is a common way to avoid repeating similar code in Python and other programming languages. In the code examples above we already used two functions, `type()`, which returns  variable type (as string) for any variable and `len()`, which returns number of elements in a container.\n",
    "\n",
    "From these two examples you can see that a typical function takes some *arguments* (they also called *parameters*), then does something and returns the result back to the program. For example, function `len()` takes any container as a parameter and returns the number of its elements as the result. How it finds this information we do not know, as it is hidden inside the function. \n",
    "\n",
    "Here is once again an example:"
   ]
  },
  {
   "cell_type": "code",
   "execution_count": null,
   "metadata": {},
   "outputs": [],
   "source": [
    "names = [\"Bob\", \"Anne\", \"Peter\", \"Lena\"]\n",
    "l = len(names)\n",
    "l"
   ]
  },
  {
   "cell_type": "markdown",
   "metadata": {},
   "source": [
    "In this example, variable `names` (list with four elements) is a value we send to the function `len()` as a parameter. The result returned by the function we save to another variable, `l` whose value we show on the screen.\n",
    "\n",
    "Let's write our own function which will compute area of a circle by knowing its radius. Apparently, this function will have only one parameter — the radius, and return one value — the area. \n",
    "\n",
    "Here is how to implement it. Notice indentation (extra space on the left) of the code which is a prt of the function. Use tab button to add it: "
   ]
  },
  {
   "cell_type": "code",
   "execution_count": null,
   "metadata": {},
   "outputs": [],
   "source": [
    "def get_circle_area(radius):\n",
    "    area = radius * radius * 3.1415926\n",
    "    return area"
   ]
  },
  {
   "cell_type": "markdown",
   "metadata": {},
   "source": [
    "Run this cell (nothing will happen) but Python will load this function to memory so it will be available to other cells in this notebook. Let's test it:"
   ]
  },
  {
   "cell_type": "code",
   "execution_count": null,
   "metadata": {},
   "outputs": [],
   "source": [
    "get_circle_area(10)"
   ]
  },
  {
   "cell_type": "markdown",
   "metadata": {},
   "source": [
    "As you can see, we did not save the result, but only showed it. Of course if we need to use this value later in the code, we can save it to a variable:"
   ]
  },
  {
   "cell_type": "code",
   "execution_count": null,
   "metadata": {},
   "outputs": [],
   "source": [
    "a = get_circle_area(10)\n",
    "a"
   ]
  },
  {
   "cell_type": "markdown",
   "metadata": {},
   "source": [
    "If you look at the code of the function you may notice that we do not re-use variable `area` inside this function. Well, in fact, we use it but only to return its value back to code. In this case you do not need to create a separate variable and simply return the result of calculations directly:"
   ]
  },
  {
   "cell_type": "code",
   "execution_count": null,
   "metadata": {},
   "outputs": [],
   "source": [
    "def get_circle_area(radius):\n",
    "    return radius * radius * 3.1415926"
   ]
  },
  {
   "cell_type": "markdown",
   "metadata": {},
   "source": [
    "Function can have any number of arguments, here is an example where we create another function, which computes a volume of a cylinder. In this case we need to know its radius and its height."
   ]
  },
  {
   "cell_type": "code",
   "execution_count": null,
   "metadata": {},
   "outputs": [],
   "source": [
    "def get_cylinder_volume(radius, height):\n",
    "    return get_circle_area(radius) * height"
   ]
  },
  {
   "cell_type": "code",
   "execution_count": null,
   "metadata": {},
   "outputs": [],
   "source": [
    "get_cylinder_volume(5, 10)"
   ]
  },
  {
   "cell_type": "markdown",
   "metadata": {},
   "source": [
    "So if we have a cylinder with 5 cm radius (10 cm in diameter) and 10 cm height its volume will be 785.4 cubic centimeters.\n",
    "\n",
    "Pay attention that in this new function we already reused the one we created before. Splitting you code into relatively small functions makes it shorter, more clear and more efficient.\n",
    "\n",
    "As you can see when we provide the values we do not specify which one is radius and which one is height. Python by default use the same position as they are specified in the function definition — first value will be always treated as radius and second as height.\n",
    "\n",
    "If you do not remember the position of each parameter (especially when a function has many of those), you can specify their values by name. In this case order does not matter:"
   ]
  },
  {
   "cell_type": "code",
   "execution_count": null,
   "metadata": {},
   "outputs": [],
   "source": [
    "get_cylinder_volume(height = 10, radius = 5)"
   ]
  },
  {
   "cell_type": "markdown",
   "metadata": {},
   "source": [
    "Let's now add a new parameter, `scale`, which can be used to scale both radius and height by a number. For example by default height and radius are specified in meters so if you want to tell the function that the values you provided are in centimeters you need to provide scale factor of `0.01`. Here is the implementation:"
   ]
  },
  {
   "cell_type": "code",
   "execution_count": null,
   "metadata": {},
   "outputs": [],
   "source": [
    "def get_cylinder_volume(radius, height, scale):\n",
    "    return get_circle_area(radius * scale) * (height * scale)"
   ]
  },
  {
   "cell_type": "code",
   "execution_count": null,
   "metadata": {},
   "outputs": [],
   "source": [
    "get_cylinder_volume(5, 10, 0.01)"
   ]
  },
  {
   "cell_type": "markdown",
   "metadata": {},
   "source": [
    "In the example above we provided radius and height in cm, but we got the result in cubic meters because we also specified the scale value. \n",
    "\n",
    "The drawback of this new function is that now we always have to specify the scale parameter. What if most of the time you provide values in cm and very rarely in meters or decimeters? In this case you can set a default value to the parameter:"
   ]
  },
  {
   "cell_type": "code",
   "execution_count": null,
   "metadata": {},
   "outputs": [],
   "source": [
    "def get_cylinder_volume(radius, height, scale = 0.01):\n",
    "    return get_circle_area(radius * scale) * (height * scale)"
   ]
  },
  {
   "cell_type": "markdown",
   "metadata": {},
   "source": [
    "So if you specify the scale, function will use the value you provided. But if you do not, then it will simply take the default value:"
   ]
  },
  {
   "cell_type": "code",
   "execution_count": null,
   "metadata": {},
   "outputs": [],
   "source": [
    "# without scale - it will use 0.01 as default\n",
    "get_cylinder_volume(5, 10)"
   ]
  },
  {
   "cell_type": "code",
   "execution_count": null,
   "metadata": {},
   "outputs": [],
   "source": [
    "# or you can specify it directly\n",
    "get_cylinder_volume(5, 10, 1)"
   ]
  },
  {
   "cell_type": "markdown",
   "metadata": {},
   "source": [
    "Finally if you are going to use this function intensively and perhaps even share it with others, it is a good idea to describe its behavior and its arguments. This can be done by providing what is called a *doc string*: "
   ]
  },
  {
   "cell_type": "code",
   "execution_count": null,
   "metadata": {},
   "outputs": [],
   "source": [
    "def get_cylinder_volume(radius, height, scale = 0.01):\n",
    "    \"\"\"\n",
    "    Computes volume of a cylinder in cubic meters.\n",
    "\n",
    "    Arguments:\n",
    "    ----------\n",
    "    radius: radius of the cylinder\n",
    "    height: height of the cylinder\n",
    "    scale: scale factor for radius and height (0.01 for cm, 1 for m)\n",
    "\n",
    "    Returns:\n",
    "    --------\n",
    "    the compued volume\n",
    "    \"\"\"\n",
    "\n",
    "    return get_circle_area(radius * scale) * (height * scale)"
   ]
  },
  {
   "cell_type": "markdown",
   "metadata": {},
   "source": [
    "Now move your mouse over the function name in the next block of code. You will see a floating dialog with the documentation text you have written:"
   ]
  },
  {
   "cell_type": "code",
   "execution_count": null,
   "metadata": {},
   "outputs": [],
   "source": [
    "get_cylinder_volume(5, 10, 1)"
   ]
  },
  {
   "cell_type": "markdown",
   "metadata": {},
   "source": [
    "You self decide how detailed the docstring should be. \n",
    "\n",
    "Functions can also return several values, in this case simply combine them to tuple when returning:"
   ]
  },
  {
   "cell_type": "code",
   "execution_count": null,
   "metadata": {},
   "outputs": [],
   "source": [
    "def div(a, b):\n",
    "    \"\"\" computes reminder and quotient of a / b and return both \"\"\"\n",
    "    q = a // b\n",
    "    r = a % b\n",
    "    (q, r)"
   ]
  },
  {
   "cell_type": "code",
   "execution_count": null,
   "metadata": {},
   "outputs": [],
   "source": [
    "a = 13\n",
    "b = 3\n",
    "q, r = div(a, b)\n",
    "print(f\"{a} = {q} * {b} + {r}\")"
   ]
  },
  {
   "cell_type": "markdown",
   "metadata": {},
   "source": [
    "And again, we can make the function shorter by computing the outcomes inside the tuple with results, skipping creating the variables explicitly:"
   ]
  },
  {
   "cell_type": "code",
   "execution_count": null,
   "metadata": {},
   "outputs": [],
   "source": [
    "def div(a, b):\n",
    "    \"\"\" computes reminder and quotient of a / b and returns both \"\"\"\n",
    "    return (a // b, a % b)"
   ]
  },
  {
   "cell_type": "markdown",
   "metadata": {},
   "source": [
    "## Formatted output\n",
    "\n",
    "You already noticed that if we type a variable name at the end of the cell, we will see its value when we run the cell code:"
   ]
  },
  {
   "cell_type": "code",
   "execution_count": null,
   "metadata": {},
   "outputs": [],
   "source": [
    "a = 10.6\n",
    "a"
   ]
  },
  {
   "cell_type": "markdown",
   "metadata": {},
   "source": [
    "Same if you do something which returns a value as a result:"
   ]
  },
  {
   "cell_type": "code",
   "execution_count": null,
   "metadata": {},
   "outputs": [],
   "source": [
    "10 * 5 / 2"
   ]
  },
  {
   "cell_type": "markdown",
   "metadata": {},
   "source": [
    "But try to run the following code:"
   ]
  },
  {
   "cell_type": "code",
   "execution_count": null,
   "metadata": {},
   "outputs": [],
   "source": [
    "a = 10.5\n",
    "a\n",
    "\n",
    "b = 78.9\n",
    "b"
   ]
  },
  {
   "cell_type": "markdown",
   "metadata": {},
   "source": [
    "You can see that in this case we do not see value of `a`, by default Jupyter notebook prints only the last value in the cell. You can force it to show both if you use function `print()`:"
   ]
  },
  {
   "cell_type": "code",
   "execution_count": null,
   "metadata": {},
   "outputs": [],
   "source": [
    "a = 10.5\n",
    "print(a)\n",
    "\n",
    "b = 78.9\n",
    "print(b)"
   ]
  },
  {
   "cell_type": "markdown",
   "metadata": {},
   "source": [
    "However in out examples `print()` only shows a value. It would be nice to wrap it with some text which provides additional information. This can be done by using special type of strings in python — [f-strings](https://docs.python.org/3/tutorial/inputoutput.html).\n",
    "\n",
    "Here letter \"f\" stands for \"formatted\". The rules are the following:\n",
    "\n",
    "- start string with letter `f` and then use double or single quotes as for normal string.\n",
    "- write normal text inside the quotes.\n",
    "- if you want to show a value of a variable inside the text use curly braces\n",
    "\n",
    "Here is an example:\n"
   ]
  },
  {
   "cell_type": "code",
   "execution_count": null,
   "metadata": {},
   "outputs": [],
   "source": [
    "radius = 5.0\n",
    "area = get_circle_area(radius)\n",
    "\n",
    "print(f\"Area of a circle with radius {radius} cm is {area} squared cm.\")"
   ]
  },
  {
   "cell_type": "markdown",
   "metadata": {},
   "source": [
    "You can also specify how to show numeric values — how many digits to use and how many decimals. For example let's show the area as floating point number with one decimal:"
   ]
  },
  {
   "cell_type": "code",
   "execution_count": null,
   "metadata": {},
   "outputs": [],
   "source": [
    "print(f\"Area of a circle with radius {radius} cm is {area:.1f} squared cm.\")"
   ]
  },
  {
   "cell_type": "markdown",
   "metadata": {},
   "source": [
    "As you can see to define format simply add semicolon after the variable name and the format: `:.1f` which in this case means floating point with one decimal. You can read more about the formatting options from [official documentation](https://docs.python.org/3/tutorial/inputoutput.html)."
   ]
  },
  {
   "cell_type": "markdown",
   "metadata": {},
   "source": [
    "## Loops\n",
    "\n",
    "Loop is a way to repeat one or more lines of code several times. The simplest way is a `for` loop where you can specify exactly how many times it should run. The idea of the for loop is as follows.\n",
    "\n",
    "1. Define a container with several elements\n",
    "2. Use `for` to iterate over the elements\n",
    "3. Write code which you want to run at each iteration with indentation.\n",
    "\n",
    "Here is an example:"
   ]
  },
  {
   "cell_type": "code",
   "execution_count": null,
   "metadata": {},
   "outputs": [],
   "source": [
    "x = [10, 20, 30]\n",
    "\n",
    "for i in x:\n",
    "    print(i * 2)"
   ]
  },
  {
   "cell_type": "markdown",
   "metadata": {},
   "source": [
    "As you can see we first crated a container (list in this case) and then use loop to iterate over the container elements. Loop has a special variable (in our case `i`). At the first iteration this variable is equal to the first element of the container. On the second iteration — it has the same value as the second element, and so on. Thereby the code inside the loop will be repeated as many times as many elements you have in the container.\n",
    "\n",
    "Like in case of function, the lines of code, which are part of the loop should have extra space on the left (indentation). This is the way Python understands what should be run inside the loop and what is outside. Here are two examples to help you understanding this:"
   ]
  },
  {
   "cell_type": "code",
   "execution_count": null,
   "metadata": {},
   "outputs": [],
   "source": [
    "# the last line is without indentation so it will be executed only\n",
    "# once, after the loop\n",
    "for i in x:\n",
    "    print(i * 2)\n",
    "print(\"we are done!\")"
   ]
  },
  {
   "cell_type": "code",
   "execution_count": null,
   "metadata": {},
   "outputs": [],
   "source": [
    "# the last line has indentation so it will be executed at every iteration\n",
    "for i in x:\n",
    "    print(i * 2)\n",
    "    print(\"we are done!\")"
   ]
  },
  {
   "cell_type": "markdown",
   "metadata": {},
   "source": [
    "You can also iterate over tuple:"
   ]
  },
  {
   "cell_type": "code",
   "execution_count": null,
   "metadata": {},
   "outputs": [],
   "source": [
    "names = (\"John\", \"Peter\", \"Lene\")\n",
    "\n",
    "for n in names:\n",
    "    print(f\"Hello, {n}!\")"
   ]
  },
  {
   "cell_type": "markdown",
   "metadata": {},
   "source": [
    "And even over a dictionary, in this case you will loop over the keys, not over the values:"
   ]
  },
  {
   "cell_type": "code",
   "execution_count": null,
   "metadata": {},
   "outputs": [],
   "source": [
    "dinner = {\"starter\": \"salad with tuna\", \"main dish\": \"seafood paella\", \"desert\": \"ice-cream\"}\n",
    "\n",
    "for key in dinner:\n",
    "    print(f\"for {key} we will eat {dinner[key]}\")"
   ]
  },
  {
   "cell_type": "markdown",
   "metadata": {},
   "source": [
    "But you can also can get both key and value of every element of the dictionary, in this case you need to use a function `items()`:"
   ]
  },
  {
   "cell_type": "code",
   "execution_count": null,
   "metadata": {},
   "outputs": [],
   "source": [
    "dinner = {\"starter\": \"salad with tuna\", \"main dish\": \"seafood paella\", \"desert\": \"ice-cream\"}\n",
    "\n",
    "for key, val in dinner.items():\n",
    "    print(f\"for {key} we will eat {val}\")"
   ]
  },
  {
   "cell_type": "markdown",
   "metadata": {},
   "source": [
    "This is how function `itms()` works:"
   ]
  },
  {
   "cell_type": "code",
   "execution_count": null,
   "metadata": {},
   "outputs": [],
   "source": [
    "dinner.items()"
   ]
  },
  {
   "cell_type": "markdown",
   "metadata": {},
   "source": [
    "So it takes a loop and create a list of tuples `(key, value)` of every element of the dictionary."
   ]
  },
  {
   "cell_type": "markdown",
   "metadata": {},
   "source": [
    "If you use loop over one container to create another container, you can make the code much shorter by placing the loop inside container brackets. Below you see two cells of code. Each cell does the same — takes a list of numbers, square each number and combine the squares to another list.\n",
    "\n",
    "Here is a long version:"
   ]
  },
  {
   "cell_type": "code",
   "execution_count": null,
   "metadata": {},
   "outputs": [],
   "source": [
    "numbers = [1, 2, 5, 10, 100]\n",
    "squares = []\n",
    "\n",
    "for n in numbers:\n",
    "    squares.append(n * n)\n",
    "\n",
    "squares"
   ]
  },
  {
   "cell_type": "markdown",
   "metadata": {},
   "source": [
    "And here is the short one:"
   ]
  },
  {
   "cell_type": "code",
   "execution_count": null,
   "metadata": {},
   "outputs": [],
   "source": [
    "squares = [n * n for n in numbers]\n",
    "squares"
   ]
  },
  {
   "cell_type": "markdown",
   "metadata": {},
   "source": [
    "You can use similar form with dictionaries and tuples and even mix them as it is shown below:"
   ]
  },
  {
   "cell_type": "code",
   "execution_count": null,
   "metadata": {},
   "outputs": [],
   "source": [
    "# create dictionary with squares of numbers, so a number will be the key and\n",
    "# its square will be the value\n",
    "squares = {n : n * n for n in numbers}\n",
    "squares"
   ]
  },
  {
   "cell_type": "code",
   "execution_count": null,
   "metadata": {},
   "outputs": [],
   "source": [
    "squares[10]"
   ]
  },
  {
   "cell_type": "markdown",
   "metadata": {},
   "source": [
    "Often we need to make a loop for given number of iterations, e.g. 10 or 100. Creating manually a list with 100 values will be quite tricky. Luckily there is a function in python which can do it for you, `range()`. Here are some examples:"
   ]
  },
  {
   "cell_type": "code",
   "execution_count": null,
   "metadata": {},
   "outputs": [],
   "source": [
    "# range(n) creates a range of values: 0, 1, 2, ... , n - 1\n",
    "for i in range(5):\n",
    "    print(i)"
   ]
  },
  {
   "cell_type": "code",
   "execution_count": null,
   "metadata": {},
   "outputs": [],
   "source": [
    "# range(a, b) creates a range of values: a, a + 1, a + 2, ..., b - 1\n",
    "for i in range(5, 10):\n",
    "    print(i)"
   ]
  },
  {
   "cell_type": "code",
   "execution_count": null,
   "metadata": {},
   "outputs": [],
   "source": [
    "# range(a, b, s) does the same but values are incremented by \"s\"\n",
    "for i in range(2, 10, 2):\n",
    "    print(i)"
   ]
  },
  {
   "cell_type": "code",
   "execution_count": null,
   "metadata": {},
   "outputs": [],
   "source": [
    "# increment (step) can be negative but in this case a must be larger than b\n",
    "for i in range(20, 10, -2):\n",
    "    print(i)"
   ]
  },
  {
   "cell_type": "markdown",
   "metadata": {},
   "source": [
    "Range is not a list, it is a special object (we will discuss objects):"
   ]
  },
  {
   "cell_type": "code",
   "execution_count": null,
   "metadata": {},
   "outputs": [],
   "source": [
    "r = range(10)\n",
    "r"
   ]
  },
  {
   "cell_type": "markdown",
   "metadata": {},
   "source": [
    "But you can convert any range to a list:"
   ]
  },
  {
   "cell_type": "code",
   "execution_count": null,
   "metadata": {},
   "outputs": [],
   "source": [
    "r = range(20, 10, -2)\n",
    "r"
   ]
  },
  {
   "cell_type": "code",
   "execution_count": null,
   "metadata": {},
   "outputs": [],
   "source": [
    "l = list(r)\n",
    "l"
   ]
  },
  {
   "cell_type": "markdown",
   "metadata": {},
   "source": [
    "## Logical operations, conditions, branching\n",
    "\n",
    "We already mentioned boolean (logical) variables which have only two values, `True` or `False`. But what do they need for? They need to check if a particular condition is correct. In order to produce boolean values you need to compare the values. Here is an example with six operators you can use to compare two values:"
   ]
  },
  {
   "cell_type": "code",
   "execution_count": null,
   "metadata": {},
   "outputs": [],
   "source": [
    "a = 5\n",
    "b = 6\n",
    "\n",
    "(a == b, a != b, a < b, a > b, a <= b, a >= b)"
   ]
  },
  {
   "cell_type": "markdown",
   "metadata": {},
   "source": [
    "As you can see using each of the six operators resulted in either `True` or `False`, and we got `True` only in cases where the condition was indeed valid (`a < b` and `a <= b`).\n",
    "\n",
    "You can combine several conditions by using logical operators \"and\" (`&`) and \"or\" (`|`). For example, instead of `a ≤ b` we can do it using operator and and two separate comparisons:"
   ]
  },
  {
   "cell_type": "code",
   "execution_count": null,
   "metadata": {},
   "outputs": [],
   "source": [
    "# a is smaller than b OR a is equal two b\n",
    "# if either is True the result will be True\n",
    "(a < b) | (a == b)"
   ]
  },
  {
   "cell_type": "markdown",
   "metadata": {},
   "source": [
    "Conditions and logical operations can be used to make code branches: if condition is true, Python will do one action and if condition is false, then it will do the other one:"
   ]
  },
  {
   "cell_type": "code",
   "execution_count": null,
   "metadata": {},
   "outputs": [],
   "source": [
    "a = 5\n",
    "b = 6\n",
    "\n",
    "if a < b:\n",
    "    print(f\"{a} is smaller than {b}\")\n",
    "else:\n",
    "    print(f\"{a} is not smaller than {b}\")"
   ]
  },
  {
   "cell_type": "markdown",
   "metadata": {},
   "source": [
    "You can have as many branches as needed:"
   ]
  },
  {
   "cell_type": "code",
   "execution_count": null,
   "metadata": {},
   "outputs": [],
   "source": [
    "# try to change the values and run the code\n",
    "a = 5\n",
    "b = 6\n",
    "\n",
    "if a < b:\n",
    "    print(f\"{a} is smaller than {b}\")\n",
    "elif a > b:\n",
    "    print(f\"{a} is greater than {b}\")\n",
    "else:\n",
    "    print(f\"{a} is equal to {b}\")"
   ]
  },
  {
   "cell_type": "markdown",
   "metadata": {},
   "source": [
    "Here is an example of a function which computes [factorials](https://en.wikipedia.org/wiki/Factorial) and how to use it in a smart way with lists. It combines a lot of things we have learned so far:"
   ]
  },
  {
   "cell_type": "code",
   "execution_count": null,
   "metadata": {},
   "outputs": [],
   "source": [
    "def factorial(a):\n",
    "    \"\"\" computes and returns a! (factorial of a = 1 * 2 * ... * (a - 1) * (a - 2))\"\"\"\n",
    "\n",
    "    # show error message and stop function if a is not integer\n",
    "    # note that int is not a string, it is a type object\n",
    "    if type(a) != int:\n",
    "        print(\"Parameter 'a' must be integer number!\")\n",
    "        return\n",
    "\n",
    "    # show error message and stop function if a is negative\n",
    "    if a < 0:\n",
    "        print(\"Parameter 'a' must be non-negative number!\")\n",
    "        return\n",
    "\n",
    "\n",
    "    # 0! = 1\n",
    "    if a == 0:\n",
    "        return 1\n",
    "\n",
    "    f = 1\n",
    "    for i in range(a):\n",
    "        f = f * (i + 1)\n",
    "\n",
    "    return f"
   ]
  },
  {
   "cell_type": "code",
   "execution_count": null,
   "metadata": {},
   "outputs": [],
   "source": [
    "# should show error\n",
    "factorial(-1)"
   ]
  },
  {
   "cell_type": "code",
   "execution_count": null,
   "metadata": {},
   "outputs": [],
   "source": [
    "# should show another error\n",
    "factorial(0.1)"
   ]
  },
  {
   "cell_type": "code",
   "execution_count": null,
   "metadata": {},
   "outputs": [],
   "source": [
    "# factorial of a single number\n",
    "factorial(5)"
   ]
  },
  {
   "cell_type": "code",
   "execution_count": null,
   "metadata": {},
   "outputs": [],
   "source": [
    "# factorials of a list of numbers\n",
    "numbers = [0, 1, 2, 5, 10]\n",
    "factorials = [factorial(n) for n in numbers]\n",
    "\n",
    "factorials"
   ]
  },
  {
   "cell_type": "markdown",
   "metadata": {},
   "source": [
    "## Classes and objects\n",
    "\n",
    "Objects are more advanced way to keep and manipulate different values. Any object in Python may have *properties* — one of several variables with values, and *methods* — functions which can do something with the object.\n",
    "\n",
    "In order to create an object you first need to define, how it will look like, which values contain as well as which methods will it have. This definition is called a *class*. You can think about class as a set of instructions which tells Python how to make the object and what it can do (like building instructions for Ikea furniture).\n",
    "\n",
    "Here is an example of a class `Person`, which describes how to create an object of this class to keep information about a particular person, show a welcome message and increase person's age by celebrating its birthday:"
   ]
  },
  {
   "cell_type": "code",
   "execution_count": null,
   "metadata": {},
   "outputs": [],
   "source": [
    "class Person:\n",
    "\n",
    "    def __init__(self, name, age, height):\n",
    "        \"\"\" creates object of class Person with three parameters \"\"\"\n",
    "        self.name = name\n",
    "        self.age = age\n",
    "        self.height = height\n",
    "\n",
    "    def welcome(self):\n",
    "        \"\"\" shows welcome message \"\"\"\n",
    "        print(f\"Hi, my name is {self.name}, I am {self.age} years old.\")\n",
    "\n",
    "    def celebrate_birthday(self):\n",
    "        \"\"\" increment age of the person by one year \"\"\"\n",
    "        self.age = self.age + 1"
   ]
  },
  {
   "cell_type": "markdown",
   "metadata": {},
   "source": [
    "Any class must have a method `__init__`. You can think of this method as a constructor, it creates the object by defining its properties and returns the created object back to python. Therefore it usually takes all values the object should have (in our case name and age of a person and its height) and assign these values to the object properties.\n",
    "\n",
    "Inside class the future object has internal name `self`. Therefore all methods have `self` as the first argument. To get a property of an object you also add `self.` before the property name, e.g. `self.name` means name of a particular person.\n",
    "\n",
    "After defining the class, you can create an object of this class and then use this object by calling its methods. Here is an example:"
   ]
  },
  {
   "cell_type": "code",
   "execution_count": null,
   "metadata": {},
   "outputs": [],
   "source": [
    "p1 = Person(\"John\", 26, 167)\n",
    "p1.welcome()"
   ]
  },
  {
   "cell_type": "code",
   "execution_count": null,
   "metadata": {},
   "outputs": [],
   "source": [
    "p1.celebrate_birthday()\n",
    "p1.welcome()"
   ]
  },
  {
   "cell_type": "markdown",
   "metadata": {},
   "source": [
    "You can create a new class not from the scratch but extending the other class. For example below we create class `Student` by extending the class `Person`. The new class will have everything the parent class has (it is also called a super class) and also one new property — dictionary with current grads and two new method — `set_exam_result()` and `show_grades()`:"
   ]
  },
  {
   "cell_type": "code",
   "execution_count": null,
   "metadata": {},
   "outputs": [],
   "source": [
    "class Student(Person):\n",
    "\n",
    "    def __init__(self, name, age, height):\n",
    "        \"\"\" creates object of class Student \"\"\"\n",
    "        super().__init__(name, age, height)\n",
    "        self.grades = {\"math\": None, \"physics\": None, \"chemistry\": None}\n",
    "\n",
    "    def set_exam_results(self, subject, grade):\n",
    "        subjects = self.grades.keys()\n",
    "\n",
    "        if not subject in subjects:\n",
    "            print(f\"Subject '{subject}' is not a part of the curriculum.\")\n",
    "            return\n",
    "\n",
    "        self.grades[subject] = grade\n",
    "\n",
    "    def show_grades(self):\n",
    "        for subject, grade in self.grades.items():\n",
    "            if grade is None:\n",
    "                print(f\"{subject}: this exam is not taken yet.\")\n",
    "            else:\n",
    "                print(f\"{subject}: the grade is {grade}\")"
   ]
  },
  {
   "cell_type": "markdown",
   "metadata": {},
   "source": [
    "Because name, age, and height are properties of a super class `Person` we need to initialize the super class first and then build something on top of it. This is why we run this line of code inside the `__init()__` method of the new class:\n",
    "\n",
    "```python\n",
    "super().__init__(name, age, height)\n",
    "```\n",
    "\n",
    "Now let's create a new object of class `Student` and try one of the methods from its superclass:"
   ]
  },
  {
   "cell_type": "code",
   "execution_count": null,
   "metadata": {},
   "outputs": [],
   "source": [
    "s1 = Student(\"Lena\", 21, 167)\n",
    "s1.welcome()"
   ]
  },
  {
   "cell_type": "markdown",
   "metadata": {},
   "source": [
    "And let's try some of the new methods:"
   ]
  },
  {
   "cell_type": "code",
   "execution_count": null,
   "metadata": {},
   "outputs": [],
   "source": [
    "s1.show_grades()"
   ]
  },
  {
   "cell_type": "code",
   "execution_count": null,
   "metadata": {},
   "outputs": [],
   "source": [
    "s1.set_exam_results(\"math\", \"A\")\n",
    "s1.set_exam_results(\"chemistry\", \"B\")\n",
    "s1.show_grades()\n"
   ]
  },
  {
   "cell_type": "code",
   "execution_count": null,
   "metadata": {},
   "outputs": [],
   "source": [
    "s1.set_exam_results(\"history\", \"C\")"
   ]
  },
  {
   "cell_type": "markdown",
   "metadata": {},
   "source": [
    "## Module and packages\n",
    "\n",
    "Many methods and classes can be reused either by you or by others. In this case you can share your code by creating a *module*. Module is simply a collection of functions or/and classes which you can use from other python files (e.g. Jupyter notebooks or python scripts).\n",
    "\n",
    "When you install Python, it already comes with many modules, which are part of the standard library, for example:\n",
    "\n",
    "* `math` — contains mathematical functions and constants (like pi).\n",
    "* `random` — contains functions for generating random numbers.\n",
    "* `copy` — contains functions for creating copies of complex structures, such as dictionaries, objects, etc.\n",
    "\n",
    "And many others. In order to use any module functions you either need to import a particular function or the whole module. The code below shows how to import a particular function from module:"
   ]
  },
  {
   "cell_type": "code",
   "execution_count": null,
   "metadata": {},
   "outputs": [],
   "source": [
    "# import function that compute square root\n",
    "from math import sqrt\n",
    "\n",
    "p1 = (1, 1) # (x, y) coordinates of the first point\n",
    "p2 = (4, 5) # (x, y) coordinates of the second point\n",
    "\n",
    "# compute and show Euclidean distance\n",
    "d = sqrt( (p1[0] - p2[0])**2 + (p1[1] - p2[1])**2)\n",
    "\n",
    "print(f\"Distance between the two points is {d:.1f}\")"
   ]
  },
  {
   "cell_type": "markdown",
   "metadata": {},
   "source": [
    "And here how to load all functions from the module and use some of them:"
   ]
  },
  {
   "cell_type": "code",
   "execution_count": null,
   "metadata": {},
   "outputs": [],
   "source": [
    "# import whole module\n",
    "import math\n",
    "\n",
    "a = 2\n",
    "print(f\"square root of {a} is {math.sqrt(a):.3f}\")"
   ]
  },
  {
   "cell_type": "markdown",
   "metadata": {},
   "source": [
    "If name of module is too long, you can give it a short alias to make code shorter:"
   ]
  },
  {
   "cell_type": "code",
   "execution_count": null,
   "metadata": {},
   "outputs": [],
   "source": [
    "# import whole module and give it a short name\n",
    "import math as mt\n",
    "\n",
    "a = 2\n",
    "print(f\"square root of {a} is {mt.sqrt(a):.3f}\")"
   ]
  },
  {
   "cell_type": "markdown",
   "metadata": {},
   "source": [
    "One or several modules can be combined into packages. Anyone can make a package and share it. For example most of the Python packages are available in a special repository, [PyPI](https://pypi.org). In order to use a package you need to install it first. \n",
    "\n",
    "To install package you need to run the following command either from command line or, if you work in Jupyter notebook, simply start this command with `!`. For example code in the cell below installs package `matplotlib` which can be used to create plots.\n",
    "\n",
    "Run it once (if you are on Mac use `pip3` instead of `pip`):\n"
   ]
  },
  {
   "cell_type": "code",
   "execution_count": null,
   "metadata": {},
   "outputs": [],
   "source": [
    "! pip install matplotlib"
   ]
  },
  {
   "cell_type": "markdown",
   "metadata": {},
   "source": [
    "You will see that in fact this command installs not only `matplotlibg` but several other packages, for example, `numpy`, `pillow`, and several others. These are *dependencies*, authors of package `matplotlib` reused functions from these packages to make their work easier.\n",
    "\n",
    "If you have already installed this package and run this code again you will see a message `Requirement already satisfied`.\n",
    "\n",
    "Now we can use it. In the code below we load module `pyplot` from the package `matplotlib`, give it a short name `plt` and then use several functions from this module to create a bar plot."
   ]
  },
  {
   "cell_type": "code",
   "execution_count": null,
   "metadata": {},
   "outputs": [],
   "source": [
    "import matplotlib.pyplot as plt\n",
    "\n",
    "names = [\"John\", \"Lena\", \"Peter\", \"Anna\"]\n",
    "height = [175, 180, 167, 171]\n",
    "\n",
    "plt.bar(names, height)\n",
    "plt.xlabel(\"Names\")\n",
    "plt.ylabel(\"Height, cm\")"
   ]
  },
  {
   "cell_type": "markdown",
   "metadata": {},
   "source": [
    "If you move a mouse cursor to name of the package in the code above, you will see a floating dialog with help text which describes what this package does and which modules it contains.\n",
    "\n",
    "Most of the popular packages have documentation which describes all modules and functions. For example here is a [documentation](https://matplotlib.org/stable/index.html) for package `matplotlib`."
   ]
  },
  {
   "cell_type": "markdown",
   "metadata": {},
   "source": [
    "## Overview of packages used in this course\n",
    "\n",
    "Here is an overview of packages which we will use in the course with short description and link to documentation.\n",
    "\n",
    "### matplotlib\n",
    "\n",
    "As we mentioned above, [matplotlib](https://matplotlib.org/stable/) is the main Python package for plotting. It can create a wide variety of different plots from simplest to quite sophisticated with several y-axes, complex layouts, etc. \n",
    "\n",
    "In this course we will use only one module of this package, `pyplot`.\n",
    "\n",
    "\n",
    "### NumPy\n",
    "\n",
    "[NumPy](https://numpy.org) is the main package for working with arrays (vectors, matrices, etc.) — structures with multiple elements that have the same type (e.g. integer or floating point number). The elements are organized into rectangular structures, e.g. vectors, matrices, cuboids and so on.\n",
    "\n",
    "NumPy makes working with collections much easier and faster. For example if you have a collection of numbers as a list or a tuple you need to make a loop in order to process each number (e.g. compute squares). In case of NumPy loops are not needed you can just square the whole array and NumPy will do the job for you.\n",
    "\n",
    "### pillow\n",
    "\n",
    "The package [pillow](https://pillow.readthedocs.io/en/stable/) is a modern version of another package, PIL, which stands for Python Image Library. As the name says, this package contains modules and functions for working with images — load them from files, create from arrays, show on screen, do different transformations, etc.\n",
    "\n",
    "### opencv-python\n",
    "\n",
    "[Open CV](https://docs.opencv.org/4.x/index.html) is probably the most advanced library for image and video processing (CV stands for *computer vision*). It is available for many languages, including Python. We will use Open CV only to capture videos from computer webcam in some of the classes. But if you want to do complex image processing, it worth to learn the library.\n",
    "\n",
    "### scipy\n",
    "\n",
    "[SciPy](https://scipy.org) is a collection of fundamental algorithms for scientific programming in Python. It contains many modules, such as, for example:\n",
    "\n",
    "* `scipy.integrate` for numerical integration\n",
    "* `scipy.optimize` for optimization\n",
    "* `scipy.linalg` linear algebra methods\n",
    "* `ndimage` N-dimensional image processing\n",
    "\n",
    "and many others.\n",
    "\n",
    "### spectral\n",
    "\n",
    "[Spectral Python](http://www.spectralpython.net) contains collection of methods to load, visualize, preprocess and analyze hyperspectral image data. The last version of the package released 20/06/2020 but it is still functional and is a good choice in case a simple and quick solution is needed."
   ]
  }
 ],
 "metadata": {
  "kernelspec": {
   "display_name": "Python 3",
   "language": "python",
   "name": "python3"
  },
  "language_info": {
   "codemirror_mode": {
    "name": "ipython",
    "version": 3
   },
   "file_extension": ".py",
   "mimetype": "text/x-python",
   "name": "python",
   "nbconvert_exporter": "python",
   "pygments_lexer": "ipython3",
   "version": "3.12.4"
  }
 },
 "nbformat": 4,
 "nbformat_minor": 2
}
