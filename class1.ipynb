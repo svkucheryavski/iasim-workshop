{
 "cells": [
  {
   "cell_type": "markdown",
   "metadata": {},
   "source": [
    "# Digital images and numeric arrays\n",
    "\n",
    "Digital image is representation of visual information (e.g. a photo, a drawing etc.) in a way that can be stored and processed by computers. The word *digital* means that the images are represented by numbers (digits). \n",
    "\n",
    "In the first part of the course we will learn the foundations of digital imaging and how Python can be used for creating and manipulating the images. The plan is as follows:\n",
    "\n",
    "1. Pixels and resolution\n",
    "2. Grayscale images as numeric 2D arrays\n",
    "3. Color images as numeric 3D arrays\n",
    "4. Load and save images to files\n",
    "5. Capture images from camera\n",
    "\n",
    "Let's start with the basics."
   ]
  },
  {
   "cell_type": "markdown",
   "metadata": {},
   "source": [
    "## Pixels and resolution"
   ]
  },
  {
   "cell_type": "markdown",
   "metadata": {},
   "source": [
    "Unlike traditional photos or paintings, digital images are composed of small units called *[pixels](https://en.wikipedia.org/wiki/Pixel)*. Each pixel has a specific color or intensity which is coded with one or several numbers. So you can think about *digital image* is a table filled with these numbers. Cells of these tables are pixels. \n",
    "\n",
    "This limitation comes from acquisition devices — cameras. Historically first cameras produced rectangular photos, which was then inherited by modern digital cameras. Here is a schematic representation of how digital camera works:\n",
    "\n",
    "<img src=\"illustrations/camera.png\" style=\"width:700px\">\n",
    "\n",
    "Any camera consists of optics which focuses light onto a light sensor — a grid of light sensitive elements which produce electric current depending on the intensity of the fallen light. By measuring the current and quantizing the measured values into intensity levels we can save the information about these intensities in form of numbers. And since the sensors are organized to a rectangular grid, the numbers will have the same structure.\n",
    "\n",
    "Computer or other device with a screen turns these numbers to colors. The more pixels you have the smaller they are on the screen and the more fine details you can see. Here is a simple illustration from Wikipedia:\n",
    "\n",
    "![Pixels](illustrations/Pixel-example.png)\n",
    "\n",
    "\n",
    "Number of columns in such table is a *width* of the image and number of rows is its *height*. For example, image of size 800x600 means there are 800 columns and 600 rows (480 000 pixels). \n",
    "\n",
    "The number of pixels is a *resolution* of the image. For instance, a camera of iPhone 14 smartphone produces photos with 2532 x 1170 size — almost 3 millions pixels. A camera of iPhone 14 Plus produces photos with 2778 x 1284 size — almost 3.5 millions. Professional photo cameras, such as Canon EOS 1500D, can make photos of 6000 x 4000 size, which is 24 million pixels. In this case this number often is shortened to 24 Mp (million of pixels).\n",
    "\n",
    "Here is an example of a low resolution digital image zoomed in so the pixels are visible by naked eye:\n",
    "\n",
    "![Bird](illustrations/Bird.jpg)\n",
    "\n",
    "In some specific cases, for example when we talk about resolution of a screen, we use only number of pixels which fits the width of the screen. For example 4K displays can fit about 4000 pixels along its width (usually 3840 pixels)."
   ]
  },
  {
   "cell_type": "markdown",
   "metadata": {},
   "source": [
    "## Grayscale images"
   ]
  },
  {
   "cell_type": "markdown",
   "metadata": {},
   "source": [
    "\n",
    "The simplest digital image consists of pixels, which are characterized by a single number, its *intensity*. Usually a whole number between 0 and 255 is used in this case. Computer (or any other device, e.g. smartphone or tablet) shows 0 as a black color, 255 as a while color and all numbers in between are shown as shades of gray. Therefore such images are usually called as *grayscale*.\n",
    "\n",
    "Open the first sheet of [this Excel file](../mlcourse.xlsm) (enable macros when open), which demonstrates the idea of the grayscale image, and play with the intensities.\n",
    "\n",
    "In Python we will use a special library to create the tables with pixel intensities, which is called [NumPy](https://numpy.org). This library is specifically developed to work with *arrays* — this is a way to call tables and other similar structures, which consist of only numbers in mathematics. *Array* is a versatile word for any rectangular structures with numbers, like tables, cuboids, etc. If array represents a table, it is called two-dimensional (2D) array or a *matrix*.\n",
    "\n",
    "You can install NumPy by running the following chunk of code (you need to do it only once and then either remove it from this notebook or add symbol `#` in front of this line to deactivate it). This code also installs another useful library, [matplotlib](https://matplotlib.org), which will use in this class as well."
   ]
  },
  {
   "cell_type": "code",
   "execution_count": null,
   "metadata": {},
   "outputs": [],
   "source": [
    "! pip install numpy matplotlib"
   ]
  },
  {
   "cell_type": "markdown",
   "metadata": {},
   "source": [
    "\n",
    "The code below shows how to load the NumPy library, and then use it to generate a table (2D array) with 50 rows and 100 columns filled with values of 255. "
   ]
  },
  {
   "cell_type": "code",
   "execution_count": null,
   "metadata": {},
   "outputs": [],
   "source": [
    "# load numpy library and give it a short name \"np\"\n",
    "import numpy as np\n",
    "\n",
    "# generate simple array (sa) with 5 rows and 10 columns filled with zeros\n",
    "# dtype=int tells python that you want to work with integer (whole) numbers without decimals\n",
    "sa = np.zeros((5, 10), dtype=int)\n",
    "sa"
   ]
  },
  {
   "cell_type": "code",
   "execution_count": null,
   "metadata": {},
   "outputs": [],
   "source": [
    "# fill the values with 255\n",
    "sa.fill(255)\n",
    "sa"
   ]
  },
  {
   "cell_type": "code",
   "execution_count": null,
   "metadata": {},
   "outputs": [],
   "source": [
    "# generate array with 50 rows and 100 columns filled with 0\n",
    "img = np.zeros((50, 100), dtype=int)\n",
    "\n",
    "# show size of array\n",
    "img.shape"
   ]
  },
  {
   "cell_type": "code",
   "execution_count": null,
   "metadata": {},
   "outputs": [],
   "source": [
    "# fill array with 255\n",
    "img.fill(255)\n",
    "\n",
    "# show value at first (0) row and first (0) column\n",
    "img[0, 0]"
   ]
  },
  {
   "cell_type": "code",
   "execution_count": null,
   "metadata": {},
   "outputs": [],
   "source": [
    "# show values from the first 3 rows and first 5 columns of the array\n",
    "img[0:3, 0:5]"
   ]
  },
  {
   "cell_type": "markdown",
   "metadata": {},
   "source": [
    " You can see that the numbers in the array are located inside \"containers\", which are delimited by squared brackets, `[` and `]`, like `[255, 255, 255]`. Values for every row has its own container, and then rows are combined together using the outer container.\n",
    "\n",
    "If you want to get an access to a particular value, you need to use the array name you gave (in our case `img`) and the squared brackets as well. For example `img[0, 0]` will give you a number which is located in the first row and the first column of the array named `img`. In Python all indices start with 0, hence the first element (first row or column) has an index of 0 instead of 1.\n",
    "\n",
    "In NumPy you can also specify a sequence of indices inside the squared brackets, like `0:3`. This means values from 0 to 3 but the last one is not included (so it will end up in a sequence of indices `[0, 1, 2]`). Thereby this code `img[0:3, 0:5]` tells NumPy to select rows from 0 to 2 (3 rows in total) and columns from 0 to 4 (5 columns).\n",
    "\n",
    "If you want to show this array as an image you need another library, `matplotlib`. This library is used for making different plots, but we will use it mostly for showing images. Here is how to do it:"
   ]
  },
  {
   "cell_type": "code",
   "execution_count": null,
   "metadata": {},
   "outputs": [],
   "source": [
    "# import the plotting engine of library matplotlib and give it a short name \"plt\"\n",
    "import matplotlib.pyplot as plt\n",
    "\n",
    "# show image using gradients between colors\n",
    "plt.imshow(img)"
   ]
  },
  {
   "cell_type": "code",
   "execution_count": null,
   "metadata": {},
   "outputs": [],
   "source": [
    "# show colorbar and define limits for the intensities\n",
    "plt.imshow(img, clim=(0, 255))\n",
    "plt.colorbar()"
   ]
  },
  {
   "cell_type": "code",
   "execution_count": null,
   "metadata": {},
   "outputs": [],
   "source": [
    "# show image as a plot using gray scales between 0 (black) and 255 (white)\n",
    "plt.imshow(img, cmap=\"gray\", clim=(0, 255))"
   ]
  },
  {
   "cell_type": "markdown",
   "metadata": {},
   "source": [
    "As you can see, it looks just like a white rectangle surrounded by a black box and axes. The numbers along the axes (ticks) correspond to pixels' indices (remember with have 100 pixels in width and 50 in height). \n",
    "\n",
    "Now let's create another image, where intensities of pixels will be equal to 127 and show it.\n"
   ]
  },
  {
   "cell_type": "code",
   "execution_count": null,
   "metadata": {},
   "outputs": [],
   "source": [
    "# create 2D array with 50 rows and 100 columns filled with 0 and then fill it with 127\n",
    "img2 = np.zeros((50, 100), dtype=int)\n",
    "img2.fill(127)\n",
    "\n",
    "# show the array as an image\n",
    "plt.imshow(img2, cmap=\"gray\", clim=(0, 255))"
   ]
  },
  {
   "cell_type": "markdown",
   "metadata": {},
   "source": [
    "As you can see, the image looks like a gray rectangle. Play with the code above and use numbers smaller or larger than 127 and see how it will influence the shade of gray on the image.\n",
    "\n",
    "Now let's make something more complex. First we create 2D array filled with 0, but this time number of columns will be 256. After that, we take every column and fill it with different numbers — from 0 to 255. In order to do this we use a special coding pattern, which is called a *loop*"
   ]
  },
  {
   "cell_type": "code",
   "execution_count": null,
   "metadata": {},
   "outputs": [],
   "source": [
    "# simple loop example\n",
    "for i in [1, 10, 100]:\n",
    "    print(i ** 2)"
   ]
  },
  {
   "cell_type": "code",
   "execution_count": null,
   "metadata": {},
   "outputs": [],
   "source": [
    "# generate range of numbers\n",
    "r = range(0, 5)\n",
    "r"
   ]
  },
  {
   "cell_type": "code",
   "execution_count": null,
   "metadata": {},
   "outputs": [],
   "source": [
    "# show range as a list\n",
    "list(r)"
   ]
  },
  {
   "cell_type": "code",
   "execution_count": null,
   "metadata": {},
   "outputs": [],
   "source": [
    "# loop with range\n",
    "for i in range(0, 5):\n",
    "    print(i ** 2)"
   ]
  },
  {
   "cell_type": "code",
   "execution_count": null,
   "metadata": {},
   "outputs": [],
   "source": [
    "# create 2D array filled with zeros\n",
    "img3 = np.zeros((50, 256), dtype=int)\n",
    "img3.shape"
   ]
  },
  {
   "cell_type": "code",
   "execution_count": null,
   "metadata": {},
   "outputs": [],
   "source": [
    "# run a loop where variable \"i\" goes from 0 to 255. And use this loop to change\n",
    "# intensity values in different columns of the array\n",
    "for i in range(0, 256):\n",
    "    img3[:, i] = i\n",
    "\n",
    "# show the first 3 rows and 5 columns of the new array\n",
    "img3[0:3, 0:5]"
   ]
  },
  {
   "cell_type": "markdown",
   "metadata": {},
   "source": [
    "As you can see, now every row of the array consists of a sequence of numbers from 0 to 255. Let's show these numbers as an image:"
   ]
  },
  {
   "cell_type": "code",
   "execution_count": null,
   "metadata": {},
   "outputs": [],
   "source": [
    "plt.imshow(img3, cmap=\"gray\", clim=(0, 255))"
   ]
  },
  {
   "cell_type": "markdown",
   "metadata": {},
   "source": [
    "Now you can see all 256 shades of gray color from 0 (black) to 255 (white). But of course it is difficult to distinguish the individual columns, as the pixels are relatively small and the difference between two adjacent levels of gray is barely distinguishable.\n",
    "\n",
    "If you look back to the code with `for` loop, you can see that the code inside the loop is shifted to the right. For Python it is very important, indentation must be used for loops, conditions, functions etc. as you will see below. Python \"understands\" when loop ends when it \"sees\" a code without the shift. \n",
    "\n",
    "By understanding the programming principles and the idea of representing an image as an array of numbers one can create any image. For example, the image below resembles the Danish national flag but in black and white representation. We simply create a black image (array filled with 0) and then change pixels in 40 columns and 30 rows located in the middle to white.\n",
    "\n",
    ">**Note to teacher:**<br> discuss how to show the images using other color gradients (e.g. `spring`, `cool`, `summer`) and how to add the colobar legend. \n",
    "\n"
   ]
  },
  {
   "cell_type": "code",
   "execution_count": null,
   "metadata": {},
   "outputs": [],
   "source": [
    "# create 2D array with 300 rows and 400 columns filled with zeros\n",
    "# it will correspond to black image of size 300x400 pixels\n",
    "flag_bw = np.zeros((300, 400), dtype=int)\n",
    "\n",
    "plt.imshow(flag_bw, cmap=\"gray\", clim=(0, 255))"
   ]
  },
  {
   "cell_type": "code",
   "execution_count": null,
   "metadata": {},
   "outputs": [],
   "source": [
    "# fill the 30 rows in the middle with white color\n",
    "flag_bw[135:165, :] = 255\n",
    "\n",
    "plt.imshow(flag_bw, cmap=\"gray\", clim=(0, 255))"
   ]
  },
  {
   "cell_type": "code",
   "execution_count": null,
   "metadata": {},
   "outputs": [],
   "source": [
    "# fill the 40 columns in the middle with white color\n",
    "flag_bw[:, 180:220] = 255\n",
    "\n",
    "plt.imshow(flag_bw, cmap=\"gray\", clim=(0, 255))"
   ]
  },
  {
   "cell_type": "markdown",
   "metadata": {},
   "source": [
    "Finally, if you want to show image without any axes or boxes, you can remove them as it is shown below."
   ]
  },
  {
   "cell_type": "code",
   "execution_count": null,
   "metadata": {},
   "outputs": [],
   "source": [
    "# show the result and remove axes\n",
    "plt.imshow(flag_bw, cmap=\"gray\", clim=(0, 255))\n",
    "plt.axis(\"off\")"
   ]
  },
  {
   "cell_type": "markdown",
   "metadata": {},
   "source": [
    "You can also change pixels by taking into account both coordinates — the row and the column. In this case you need to use nested loops — one for rows and one for columns. In the next example we use nested loop to change pixels in a way to form a white triangle."
   ]
  },
  {
   "cell_type": "code",
   "execution_count": null,
   "metadata": {},
   "outputs": [],
   "source": [
    "nrows = 100 # height\n",
    "ncols = 100 # width\n",
    "\n",
    "\n",
    "img_diag = np.zeros((nrows, ncols), dtype=int)"
   ]
  },
  {
   "cell_type": "markdown",
   "metadata": {},
   "source": [
    ">**Note to teacher:**<br> make a table on black board how this loop and condition works for r = 0, 1, 2, and 10 and image of a smaller size (e.g. 5 x 5 or 10 x 10). Explain that it is actually not necessary to make a loop over all pixels in this case and show how to do it correctly. "
   ]
  },
  {
   "cell_type": "code",
   "execution_count": null,
   "metadata": {},
   "outputs": [],
   "source": [
    "for r in range(0, nrows):\n",
    "    for c in range(0, ncols):\n",
    "        if c > r and c < ncols -  r:\n",
    "            img_diag[r, c] = 255"
   ]
  },
  {
   "cell_type": "code",
   "execution_count": null,
   "metadata": {},
   "outputs": [],
   "source": [
    "\n",
    "plt.imshow(img_diag, cmap=\"gray\", clim=(0, 255))"
   ]
  },
  {
   "cell_type": "markdown",
   "metadata": {},
   "source": [
    "Ad you can see, we use a new code structure here, `if`, which checks if a particular condition and run a code only if this condition is true. \n",
    "\n",
    "In this case it checks if the current column number `c` is between two values. One is the current row number `r` and the second one is located from the right part of the image by `r` pixels to the left. For example if `r = 10`, the condition will be true for all column indices between 10 and 90. Only if this condition is true, the code `img_diag[r, c] = 255` will be executed.\n",
    "\n",
    "Pay attention to indentations in this code. The second `for` loop is nested inside the first one, so we shift this line. Then `if` statement should be executed inside the second `for` hence it has another shift. Finally `img_diag[r, c] = 255` should be executed only if the condition is true, so it should be nested inside the `if`. Usually a code line, which implies indentation, has a colon (`:`) symbol at the end of the line.\n",
    "\n",
    "\n",
    "Try to play with this code and see if it works when the width is larger than the height or vice versa. Also try to increase the image size and see how it influences the size of the pixels. So the \"stairs\" pattern on the diagonal pixels will disappear at some point.\n",
    "\n",
    "Finally, just for fun, we can also generate images as a set of random numbers. Every time you click \"run\" in the next code cell, you will get a new image."
   ]
  },
  {
   "cell_type": "code",
   "execution_count": null,
   "metadata": {},
   "outputs": [],
   "source": [
    "nrows = 100 # height\n",
    "ncols = 100 # width\n",
    "\n",
    "rand_img = np.random.randint(0, 255, (nrows, ncols))\n",
    "plt.imshow(rand_img, cmap=\"gray\", clim=(0, 255))"
   ]
  },
  {
   "cell_type": "markdown",
   "metadata": {},
   "source": [
    "In this case you can clearly see the individual pixels. Try to increase the size of the image until you can not distinguish the pixels. You will quickly find out that at some point the image will look just like a gray image, because the average intensity of all pixels is 127. **Be careful for too large size the code can become slow.**"
   ]
  },
  {
   "cell_type": "markdown",
   "metadata": {},
   "source": [
    "### Functions\n",
    "\n",
    "As you have seen above we reuse some of the code patterns over and over again. For example, to create a new image we need to call `np.zeros()` and provide not only the image size but also the type of the numbers (`int`). Same for the plots, we always add `cmap` and `clim` values. This can be avoided if we create our own functions and reuse them. Here is an example:"
   ]
  },
  {
   "cell_type": "code",
   "execution_count": null,
   "metadata": {},
   "outputs": [],
   "source": [
    "def make_grim(nrows, ncols, fill = 0):\n",
    "    \"\"\" Creates a grayscale image with given size and fill it with a given value \"\"\"\n",
    "    img = np.zeros((nrows, ncols), dtype=int)\n",
    "    img.fill(fill)\n",
    "    return img"
   ]
  },
  {
   "cell_type": "code",
   "execution_count": null,
   "metadata": {},
   "outputs": [],
   "source": [
    "def show_grim(img):\n",
    "    \"\"\" Plot grayscale image assuming that intensities vary from 0 to 255 \"\"\"\n",
    "    plt.imshow(img, cmap=\"gray\", clim=(0, 255))\n",
    "    plt.axis(\"off\")"
   ]
  },
  {
   "cell_type": "markdown",
   "metadata": {},
   "source": [
    "Run the code above to load the functions into the memory. Now we can reuse them:"
   ]
  },
  {
   "cell_type": "code",
   "execution_count": null,
   "metadata": {},
   "outputs": [],
   "source": [
    "new_img = make_grim(100, 500, 120)\n",
    "show_grim(new_img)"
   ]
  },
  {
   "cell_type": "markdown",
   "metadata": {},
   "source": [
    "### Exercises\n",
    "\n",
    "Time to practice. Write a code which will generate a black image with 300 x 300 pixels and creates a white circle with radius 50 pixels in the middle filled with a white color. Think how to make a circle without filling it inside, so the image contains only a perimeter of the circle.\n",
    "\n",
    "To solve this task you need to proceed all pixels on the image and check if a pixel is inside the circle or not. You can do it by computing distance between this pixel and the center of the circle and comparing this distance with the radius. Here is an illustration for 150x150 pixel image and circle with radius 50 with center located at row (y) 75 and column (x) 75:\n",
    "\n",
    "<img src=\"illustrations/circle.png\" style=\"width:90%\">\n",
    "\n",
    "Think how to implement it in Python and write your code in the cell below:"
   ]
  },
  {
   "cell_type": "code",
   "execution_count": null,
   "metadata": {},
   "outputs": [],
   "source": [
    "# place your code for the first exercise here\n"
   ]
  },
  {
   "cell_type": "markdown",
   "metadata": {},
   "source": [
    "Now let's make it harder. Write a function `make_circle(nrows, ncols, cx, cy, r)` which will create a black image of size `nrows x ncols` and make a circle of radius `r` with a center located in the point with coordinates `(cx, cy)`."
   ]
  },
  {
   "cell_type": "code",
   "execution_count": null,
   "metadata": {},
   "outputs": [],
   "source": [
    "# place your function and test code here\n"
   ]
  },
  {
   "cell_type": "markdown",
   "metadata": {},
   "source": [
    "If you want to challenge yourself even more, think, do you need to proceed all pixels on the image or you can limit their range? How? How faster this code will be?\n",
    "\n",
    "Try to dd a check if the circle is partially located outside the image and process only pixels which are inside."
   ]
  },
  {
   "cell_type": "markdown",
   "metadata": {},
   "source": [
    "## Color images"
   ]
  },
  {
   "cell_type": "markdown",
   "metadata": {},
   "source": [
    "\n",
    "Colors in digital images are represented using the RGB (Red, Green, Blue) model. The idea of this model is simple. If you take three light sources (e.g. LED or small lamps), one emits red light, second — green and third — blue. And if you place these three lamps close to each other, then on a distance it will be difficult to distinguish the individual colors, they will mix up to a single one. By changing intensities of the light one can make any color from these three. For example mixing red and green will give you yellow.\n",
    "\n",
    "The image below (taken from Wikipedia) illustrates this effect. Three lights sources are projected on a wall and you can see that where two light spots overlap a new color appears. When all three light beams overlap it looks like a white color.\n",
    "\n",
    "<img src=\"./illustrations/RGB_illumination.jpg\" style=\"max-width:800px\"/>"
   ]
  },
  {
   "cell_type": "markdown",
   "metadata": {},
   "source": [
    "Therefore in order to make pixels shown as colors every pixel has three values — intensity of greed, blue and red colors. They also usually coded as a number between 0 and 255. \n",
    "\n",
    "For example, a pixel with RGB values `(255, 0, 0)` is fully red, while `(0, 255, 0)` is fully green, and `(0, 0, 255)` is blue. The combination of full intensity in all three channels, `(255, 255, 255)`, results in a white color, while absence of intensity in all channels, `(0, 0, 0)`, yields black.\n",
    "\n",
    "Color images require more storage space and computational resources due to the presence of three channels for each pixel. Grayscale images generally require less storage space and computational resources, making it more efficient for certain applications.\n",
    "\n",
    "One can think of a color image as thee grayscale images combined together as slices as shown in the image below\n",
    "\n",
    "<img src=\"./illustrations/3-channel-1-channel.png\" style=\"max-width:800px\">\n",
    "\n",
    "Therefore, we can create a color image by simply creating three grayscale images and stacking them together as \"slices\" of 3D array using NumPy. \n",
    "\n",
    "Open the second sheet of the [Excel file](../mlcourse.xlsm) and play with the RGB examples, then come back.\n",
    "\n",
    "Here is an example how to make red, green and yellow images and show then all at once."
   ]
  },
  {
   "cell_type": "code",
   "execution_count": null,
   "metadata": {},
   "outputs": [],
   "source": [
    "nrows = 100\n",
    "ncols = 100\n",
    "\n",
    "# create red image\n",
    "ch_red = make_grim(nrows, ncols, 255) # 100x100 2D array filled with 255 - red channel\n",
    "ch_green = make_grim(nrows, ncols, 0) # 100x100 2D array filled with   0 - green channel\n",
    "ch_blue = make_grim(nrows, ncols, 0)  # 100x100 2D array filled with   0 - blue channel"
   ]
  },
  {
   "cell_type": "code",
   "execution_count": null,
   "metadata": {},
   "outputs": [],
   "source": [
    "# stack the channels into 3D array\n",
    "img_red = np.dstack((ch_red, ch_green, ch_blue))\n",
    "\n",
    "# show the shape\n",
    "img_red.shape"
   ]
  },
  {
   "cell_type": "code",
   "execution_count": null,
   "metadata": {},
   "outputs": [],
   "source": [
    "# show 5x5 pixels from top left corner\n",
    "img_red[0:5, 0:5, :]"
   ]
  },
  {
   "cell_type": "code",
   "execution_count": null,
   "metadata": {},
   "outputs": [],
   "source": [
    "# show the resulted array as an image\n",
    "plt.imshow(img_red)"
   ]
  },
  {
   "cell_type": "code",
   "execution_count": null,
   "metadata": {},
   "outputs": [],
   "source": [
    "# create green image\n",
    "ch_red = make_grim(nrows, ncols, 0)\n",
    "ch_green = make_grim(nrows, ncols, 255)\n",
    "ch_blue = make_grim(nrows, ncols, 0)\n",
    "\n",
    "img_green = np.dstack((ch_red, ch_green, ch_blue))\n",
    "plt.imshow(img_green)"
   ]
  },
  {
   "cell_type": "code",
   "execution_count": null,
   "metadata": {},
   "outputs": [],
   "source": [
    "# create yellow image\n",
    "ch_red = make_grim(nrows, ncols, 255)\n",
    "ch_green = make_grim(nrows, ncols, 255)\n",
    "ch_blue = make_grim(nrows, ncols, 0)\n",
    "\n",
    "img_yellow = np.dstack((ch_red, ch_green, ch_blue))\n",
    "\n",
    "plt.imshow(img_yellow)"
   ]
  },
  {
   "cell_type": "code",
   "execution_count": null,
   "metadata": {},
   "outputs": [],
   "source": [
    "# show all images in the same figure by using sub plots\n",
    "\n",
    "plt.subplot(1, 3, 1)\n",
    "plt.imshow(img_red)\n",
    "plt.axis(\"off\")\n",
    "\n",
    "plt.subplot(1, 3, 2)\n",
    "plt.imshow(img_yellow)\n",
    "plt.axis(\"off\")\n",
    "\n",
    "plt.subplot(1, 3, 3)\n",
    "plt.imshow(img_green)\n",
    "plt.axis(\"off\")"
   ]
  },
  {
   "cell_type": "markdown",
   "metadata": {},
   "source": [
    "This can be also done in a simpler way, like we did with the gray scale images, but this time we need to provide all three intensities:"
   ]
  },
  {
   "cell_type": "code",
   "execution_count": null,
   "metadata": {},
   "outputs": [],
   "source": [
    "# first we create 3D array of 100x100x3 size and fill it with 0\n",
    "img_yellow = np.zeros((100, 100, 3), dtype=int)\n",
    "\n",
    "# then we assign new values — 255 (first slice) 255 (second slice) 0 (third slice)\n",
    "img_yellow[...] = [255, 255, 0]\n",
    "\n",
    "plt.imshow(img_yellow)"
   ]
  },
  {
   "cell_type": "markdown",
   "metadata": {},
   "source": [
    "Now we can also see what happens if we mix the main colors. Let's create another image where each channel will be represented by a square of non-zero pixels. First let's do it individually for each channel:"
   ]
  },
  {
   "cell_type": "code",
   "execution_count": null,
   "metadata": {},
   "outputs": [],
   "source": [
    "nrows = 100\n",
    "ncols = 100\n",
    "\n",
    "# create a 3D array with three channels (black image)\n",
    "red_square = np.zeros((nrows, ncols, 3), dtype=int)\n",
    "\n",
    "# fill the red channel of this image with 255\n",
    "# but only pixels located in rows from 19 to 59 and in columns from 19 to 59\n",
    "red_square[20:60, 20:60, :] = [255, 0, 0]\n",
    "plt.imshow(red_square)"
   ]
  },
  {
   "cell_type": "code",
   "execution_count": null,
   "metadata": {},
   "outputs": [],
   "source": [
    "\n",
    "# create a 3D array with three channels (black image)\n",
    "green_square = np.zeros((nrows, ncols, 3), dtype=int)\n",
    "\n",
    "# fill the green channel of this image with 255\n",
    "# but only pixels located in rows from 14 to 54 and in columns from 44 to 84\n",
    "green_square[15:55, 45:85, :] = [0, 255, 0]\n",
    "plt.imshow(green_square)"
   ]
  },
  {
   "cell_type": "code",
   "execution_count": null,
   "metadata": {},
   "outputs": [],
   "source": [
    "\n",
    "# create a 3D array with three channels (black image)\n",
    "blue_square = np.zeros((nrows, ncols, 3), dtype=int)\n",
    "\n",
    "# fill the blue channel of this image with 255\n",
    "# but only pixels located in rows from 39 to 79 and in columns from 29 to 69\n",
    "blue_square[40:80, 30:70, :] = [0, 0, 255]\n",
    "plt.imshow(blue_square)"
   ]
  },
  {
   "cell_type": "code",
   "execution_count": null,
   "metadata": {},
   "outputs": [],
   "source": [
    "# show all three images together\n",
    "\n",
    "plt.subplot(1, 3, 1)\n",
    "plt.imshow(red_square)\n",
    "\n",
    "plt.subplot(1, 3, 2)\n",
    "plt.imshow(green_square)\n",
    "\n",
    "plt.subplot(1, 3, 3)\n",
    "plt.imshow(blue_square)"
   ]
  },
  {
   "cell_type": "markdown",
   "metadata": {},
   "source": [
    "Although we see them as red, green and blue, every image is a color image with three channels (slices). Now let's take the first slice from the red image, second from the green and third from the blue and combine them together:"
   ]
  },
  {
   "cell_type": "code",
   "execution_count": null,
   "metadata": {},
   "outputs": [],
   "source": [
    "# stack first (0) slice from red image, second (1) slice from green and third (2) slice\n",
    "# from the blue image into a new RGB image\n",
    "merged = np.dstack(\n",
    "    (\n",
    "        red_square[:, :, 0],\n",
    "        green_square[:, :, 1],\n",
    "        blue_square[:, :, 2]\n",
    "    )\n",
    ")\n",
    "\n",
    "plt.imshow(merged)"
   ]
  },
  {
   "cell_type": "code",
   "execution_count": null,
   "metadata": {},
   "outputs": [],
   "source": [
    "# show values from different parts of the image\n",
    "merged[40:50, 50:55, :]"
   ]
  },
  {
   "cell_type": "code",
   "execution_count": null,
   "metadata": {},
   "outputs": [],
   "source": [
    "# show channels separately as shades of gray\n",
    "show_grim(merged[:, :, 2])\n",
    "plt.colorbar()"
   ]
  },
  {
   "cell_type": "markdown",
   "metadata": {},
   "source": [
    "This image reproduces the example from Wikipedia we discussed before. By combining the three main colors with different intensities one can generate almost any color visible by a naked eye. In our case we have $256^3 = 16.777.216$ combinations yielding in more than 16 millions of different colors.\n",
    "\n",
    "Finally, let's repeat the experiment with randomly generated images but this time for color image:"
   ]
  },
  {
   "cell_type": "code",
   "execution_count": null,
   "metadata": {},
   "outputs": [],
   "source": [
    "nrows = 100\n",
    "ncols = 100\n",
    "\n",
    "# generate random intensities for each channel\n",
    "red_channel = np.random.randint(0, 255, (nrows, ncols))\n",
    "green_channel = np.random.randint(0, 255, (nrows, ncols))\n",
    "blue_channel = np.random.randint(0, 255, (nrows, ncols))\n",
    "\n",
    "# combine/stack the matrices as slices of an RGB image and show it\n",
    "rand_img = np.dstack((red_channel, green_channel, blue_channel))\n",
    "plt.imshow(rand_img)"
   ]
  },
  {
   "cell_type": "markdown",
   "metadata": {},
   "source": [
    "### Exercises\n",
    "\n",
    "Time for new exercises. First of all create a code which generates the national flags of Denmark (or Sweden, or Norway). Search information regarding the correct colors in internet."
   ]
  },
  {
   "cell_type": "code",
   "execution_count": null,
   "metadata": {},
   "outputs": [],
   "source": [
    "# place your code here\n"
   ]
  },
  {
   "cell_type": "markdown",
   "metadata": {},
   "source": [
    "The next exercise is to repeat the example with overlapping squares, but make them circles instead. Try to reuse your code from the similar grayscale exercise."
   ]
  },
  {
   "cell_type": "code",
   "execution_count": null,
   "metadata": {},
   "outputs": [],
   "source": [
    "# place your code here\n"
   ]
  },
  {
   "cell_type": "markdown",
   "metadata": {},
   "source": [
    "Finally lets create an image of 256 x 256 size, which will show all combinations of blue and red colors. Then do the same for the other two pairs, red and green, and blue and green. The third color in each case my be set to 0."
   ]
  },
  {
   "cell_type": "code",
   "execution_count": null,
   "metadata": {},
   "outputs": [],
   "source": [
    "# place your code here\n"
   ]
  },
  {
   "cell_type": "markdown",
   "metadata": {},
   "source": [
    "## Load and save images as files"
   ]
  },
  {
   "cell_type": "markdown",
   "metadata": {},
   "source": [
    "\n",
    "In a computer, images are stored in various file formats like PNG, JPEG, GIF, or BMP, where each format has its own way of encoding and compressing the pixel information. Usually JPEG is used for photos and PNG for all other graphics (e.g. diagrams, sketches, cartoons, etc). However in recent years PNG becomes a universal graphics format on Web."
   ]
  },
  {
   "cell_type": "markdown",
   "metadata": {},
   "source": [
    "If you want to load images from files, manipulate them and save the results into a new file, you have to use a specific library. Python has two very good ones: [PIL/Pillow](https://pillow.readthedocs.io/en/stable/) and [OpenCV](https://docs.opencv.org/4.x/d6/d00/tutorial_py_root.html). The last is very powerful while the first is more simple and easier to start with, so we will use PIL for this class.\n",
    "\n",
    "Let's install it first."
   ]
  },
  {
   "cell_type": "code",
   "execution_count": null,
   "metadata": {},
   "outputs": [],
   "source": [
    "! pip install pillow"
   ]
  },
  {
   "cell_type": "markdown",
   "metadata": {},
   "source": [
    ">*PIL* stands for the *Python Image Library*. The developers of this library stopped their activities, but successors took their project and continue development using a new name *Pillow*. However inside Python the library has its original name, PIL.\n",
    "\n",
    "Now let's generate a random color image and save it on a disk as a PNG file. We will reuse the code we wrote before for generation. First let's see how you can convert array of numbers to the PIL image:"
   ]
  },
  {
   "cell_type": "code",
   "execution_count": null,
   "metadata": {},
   "outputs": [],
   "source": [
    "nrows = 100\n",
    "ncols = 100\n",
    "\n",
    "# generate random intensities for each channel\n",
    "red_channel = np.random.randint(0, 255, (nrows, ncols))\n",
    "green_channel = np.random.randint(0, 255, (nrows, ncols))\n",
    "blue_channel = np.random.randint(0, 255, (nrows, ncols))"
   ]
  },
  {
   "cell_type": "code",
   "execution_count": null,
   "metadata": {},
   "outputs": [],
   "source": [
    "# combine/stack the matrices as slices of an RGB image and show it\n",
    "rand_img = np.dstack((red_channel, green_channel, blue_channel))\n",
    "plt.imshow(rand_img)"
   ]
  },
  {
   "cell_type": "code",
   "execution_count": null,
   "metadata": {},
   "outputs": [],
   "source": [
    "\n",
    "# load class Image from the library\n",
    "from PIL import Image\n",
    "\n",
    "# convert the array to PIL image\n",
    "img = Image.fromarray(np.uint8(rand_img), mode=\"RGB\")\n",
    "\n",
    "# show types of variables \"img\" and \"rand_img\"\n",
    "(type(img), type(rand_img))"
   ]
  },
  {
   "cell_type": "code",
   "execution_count": null,
   "metadata": {},
   "outputs": [],
   "source": [
    "# show image\n",
    "display(img)"
   ]
  },
  {
   "cell_type": "markdown",
   "metadata": {},
   "source": [
    ">**Note to a teacher:**<br>explain main difference between using `display()` and `plt.imshow()`.\n",
    "\n",
    "As you can see, to convert an array into PIL Image object, first you need to \"tell\" Python that the data you have in the array `rand_img` is unsigned integer data coded by 8 bits (this is the exact meaning of `uint8`). \n",
    "\n",
    "What it means? Unsigned means no sign, so all numbers are positive. Integer means whole numbers, without decimals. And 8 bits means that every value is coded by a sequence of 8 binary digites, 0 and 1. For example 0 in binary format is `00000000` and 255 is `11111111`. Value of 64 is coded as `01000000`. And so on. \n",
    "\n",
    "You do not need to know these details but this is exactly what happens inside this block of code: `np.uint8(rand_img)`. It lets Python know that the numbers inside this array have this format. \n",
    "\n",
    "After this, PIL function `fromarray()` takes this array and return a special object, the PIL image. Finally, we use `display()` function from the PIL library to display the image and it is displayed correctly by default without any axes, margins etc.\n",
    "\n",
    "Now we can save the result into a file, let's use PNG format in this case."
   ]
  },
  {
   "cell_type": "code",
   "execution_count": null,
   "metadata": {},
   "outputs": [],
   "source": [
    "img.save(\"mysuperimage.png\")"
   ]
  },
  {
   "cell_type": "markdown",
   "metadata": {},
   "source": [
    "After running this code, look at the left panel of VSCode where it shows all files. Do you see the new file with this name? Click on it and you will see the image. Alternatively you can navigate to this folder in your Windows or Mac file explorer and find the file there.\n",
    "\n",
    "Similarly you can load image from file into your Python program and see it as NumPy array. We prepared some images for you, they are located in folder `datasets`. Let's load image from file `Apples.jpg` located in this folder.\n"
   ]
  },
  {
   "cell_type": "code",
   "execution_count": null,
   "metadata": {},
   "outputs": [],
   "source": [
    "img = Image.open(\"datasets/Apples.jpg\")\n",
    "display(img)"
   ]
  },
  {
   "cell_type": "markdown",
   "metadata": {},
   "source": [
    "Actually in Jupyter notebook you do know even need to use `display()` just write the name of the image variable and run the cell:"
   ]
  },
  {
   "cell_type": "code",
   "execution_count": null,
   "metadata": {},
   "outputs": [],
   "source": [
    "img"
   ]
  },
  {
   "cell_type": "markdown",
   "metadata": {},
   "source": [
    "Looks good! Let's see some information about image, like size and color mode."
   ]
  },
  {
   "cell_type": "code",
   "execution_count": null,
   "metadata": {},
   "outputs": [],
   "source": [
    "(img.size, img.mode)"
   ]
  },
  {
   "cell_type": "markdown",
   "metadata": {},
   "source": [
    "Finally you can convert the image into NumPy array and see what is inside:"
   ]
  },
  {
   "cell_type": "code",
   "execution_count": null,
   "metadata": {},
   "outputs": [],
   "source": [
    "arr = np.array(img)\n",
    "arr[0:5, 0:5, :]"
   ]
  },
  {
   "cell_type": "markdown",
   "metadata": {},
   "source": [
    "As you can notice, in these pixels there is more red than the other two colors, which matches what we see in the corner of the photo (red apples).\n",
    "\n",
    "Here is the size (shape) of the image array vs size of the image:\n"
   ]
  },
  {
   "cell_type": "code",
   "execution_count": null,
   "metadata": {},
   "outputs": [],
   "source": [
    "(img.size, arr.shape)"
   ]
  },
  {
   "cell_type": "markdown",
   "metadata": {},
   "source": [
    "As you can see, in case of image size it shows width first (800 pixels) and then height (600 pixels). But in case of size of array, it shows number of rows first, which corresponds to the image height. And then shows the number of columns (image width). Remember about this when you will use arrays directly.\n",
    "\n",
    "We can now split the image into channel and show intensities separately:"
   ]
  },
  {
   "cell_type": "code",
   "execution_count": null,
   "metadata": {},
   "outputs": [],
   "source": [
    "plt.figure(figsize = (10, 4))\n",
    "\n",
    "plt.subplot(1, 3, 1)\n",
    "plt.imshow(arr[:, :, 0], cmap=\"gray\", clim=[0, 255])\n",
    "plt.title(\"Red\")\n",
    "\n",
    "plt.subplot(1, 3, 2)\n",
    "plt.imshow(arr[:, :, 1], cmap=\"gray\", clim=[0, 255])\n",
    "plt.title(\"Green\")\n",
    "\n",
    "plt.subplot(1, 3, 3)\n",
    "plt.imshow(arr[:, :, 2], cmap=\"gray\", clim=[0, 255])\n",
    "plt.title(\"Blue\")"
   ]
  },
  {
   "cell_type": "markdown",
   "metadata": {},
   "source": [
    "This split clearly shows that there are more red on the left part of the image, more green on the right part and there is almost no blue in the whole image, except the small white spots (remember white is when red, green and blue colors have largest intensity)\n",
    "\n",
    "In fact some of the NumPy functions can work directly with `Image` object, for example computing statistics. You can compute e.g. average intensity along any dimension. Here are several examples:"
   ]
  },
  {
   "cell_type": "code",
   "execution_count": null,
   "metadata": {},
   "outputs": [],
   "source": [
    "# average intensity across all rows, columns and channels\n",
    "np.mean(img)"
   ]
  },
  {
   "cell_type": "code",
   "execution_count": null,
   "metadata": {},
   "outputs": [],
   "source": [
    "# average intensity for each column\n",
    "np.mean(img, axis = (0, 1))"
   ]
  },
  {
   "cell_type": "code",
   "execution_count": null,
   "metadata": {},
   "outputs": [],
   "source": [
    "# average intensity for each column and each slice (across columns)\n",
    "np.mean(img, axis = 0).shape"
   ]
  },
  {
   "cell_type": "markdown",
   "metadata": {},
   "source": [
    "It is also possible to split `Image` to separate color channels and show them without converting them to NumPy array as we did above. Each image will be one channel image which is shown as grayscale:"
   ]
  },
  {
   "cell_type": "code",
   "execution_count": null,
   "metadata": {},
   "outputs": [],
   "source": [
    "red, green, blue = img.split()\n",
    "blue"
   ]
  },
  {
   "cell_type": "markdown",
   "metadata": {},
   "source": [
    "You can process each channel separately (we will discuss this in next two classes) and then merge them again into RGB image:"
   ]
  },
  {
   "cell_type": "code",
   "execution_count": null,
   "metadata": {},
   "outputs": [],
   "source": [
    "img_merged = Image.merge('RGB', (red, green, blue))\n",
    "img_merged"
   ]
  },
  {
   "cell_type": "markdown",
   "metadata": {},
   "source": [
    "You can have some fun by swapping the channels:"
   ]
  },
  {
   "cell_type": "code",
   "execution_count": null,
   "metadata": {},
   "outputs": [],
   "source": [
    "img_merged_fake = Image.merge('RGB', (green, blue, red))\n",
    "img_merged_fake"
   ]
  },
  {
   "cell_type": "markdown",
   "metadata": {},
   "source": [
    "## Capture images from computer camera"
   ]
  },
  {
   "cell_type": "markdown",
   "metadata": {},
   "source": [
    "\n",
    "You can also capture images directly from your computer (or other device) cameras. In order to do this we will use another very powerful library for working with digital images and video — [Open CV](https://docs.opencv.org/4.x/d6/d00/tutorial_py_root.html). \n",
    "\n",
    "First of all, let's install it. Run the following code once and then add symbol `#` in front of the code to avoid running it again."
   ]
  },
  {
   "cell_type": "code",
   "execution_count": null,
   "metadata": {},
   "outputs": [],
   "source": [
    "! pip install opencv-python"
   ]
  },
  {
   "cell_type": "markdown",
   "metadata": {},
   "source": [
    "In order to capture video frames you need to connect your Python session to a camera. Some computers have several cameras, so you need to specify which one to connect. Just try 0 or 1 and it should work.\n",
    "\n",
    "Here is a code to make connection to the camera. When you run it your system (Windows or Mac) will ask for permission which you need to give. After that you will see a light on your computer screen which indicates that camera is working.\n",
    "\n",
    "If you stop the code, restart or close the notebook, the connection will be automatically closed. You will learn below how to close connection to camera manually as well. Let's connect:"
   ]
  },
  {
   "cell_type": "code",
   "execution_count": null,
   "metadata": {},
   "outputs": [],
   "source": [
    "import cv2\n",
    "camera = cv2.VideoCapture(0)\n",
    "camera.isOpened()"
   ]
  },
  {
   "cell_type": "markdown",
   "metadata": {},
   "source": [
    "If you see the camera indicator on it works. You should also get `True` as a result of function `isOpened()` above. \n",
    "\n",
    "Now let's learn how to capture the video frames and show them. Here is a simple code which does this. Every time you click *Run* button it takes one frame and show it on the screen as an image."
   ]
  },
  {
   "cell_type": "code",
   "execution_count": null,
   "metadata": {},
   "outputs": [],
   "source": [
    "ret, frame = camera.read()\n",
    "plt.imshow(frame)"
   ]
  },
  {
   "cell_type": "markdown",
   "metadata": {},
   "source": [
    "If you look into the `frame` you will find out that it is just NumPy array, like the ones we already worked before. "
   ]
  },
  {
   "cell_type": "code",
   "execution_count": null,
   "metadata": {},
   "outputs": [],
   "source": [
    "frame"
   ]
  },
  {
   "cell_type": "markdown",
   "metadata": {},
   "source": [
    "So you can do with the captured frames everything that you do with images you created manually or loaded from files. \n",
    "\n",
    "Here is how to close connection to the camera:"
   ]
  },
  {
   "cell_type": "code",
   "execution_count": null,
   "metadata": {},
   "outputs": [],
   "source": [
    "camera.release()"
   ]
  },
  {
   "cell_type": "markdown",
   "metadata": {},
   "source": [
    "And, finally, let's turn the frame values into PIL image and save it as a file."
   ]
  },
  {
   "cell_type": "code",
   "execution_count": null,
   "metadata": {},
   "outputs": [],
   "source": [
    "photo = Image.fromarray(np.uint8(frame), mode=\"RGB\")\n",
    "photo.save(\"photo.jpg\")"
   ]
  }
 ],
 "metadata": {
  "kernelspec": {
   "display_name": "Python 3 (ipykernel)",
   "language": "python",
   "name": "python3"
  },
  "language_info": {
   "codemirror_mode": {
    "name": "ipython",
    "version": 3
   },
   "file_extension": ".py",
   "mimetype": "text/x-python",
   "name": "python",
   "nbconvert_exporter": "python",
   "pygments_lexer": "ipython3",
   "version": "3.12.4"
  }
 },
 "nbformat": 4,
 "nbformat_minor": 4
}
