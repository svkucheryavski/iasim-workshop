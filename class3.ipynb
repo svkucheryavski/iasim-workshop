{
 "cells": [
  {
   "cell_type": "markdown",
   "metadata": {},
   "source": [
    "# Transformation of intensities\n",
    "\n",
    "Transformations of intensities — behold position of the pixels, but change their intensities.\n",
    "\n",
    "We will consider two types of transformations:\n",
    "*  Pixel wise\n",
    "*  Area wise (filtration)\n",
    "\n",
    "Let's start with pixel wise transformations."
   ]
  },
  {
   "cell_type": "markdown",
   "metadata": {},
   "source": [
    "## Pixelwise transformations\n",
    "\n",
    "In this case we change the intensity of every pixel by applying different mathematical functions or operators. They key point is that the same operation is applied to every pixel. \n",
    "\n",
    "### Conversion between color models\n",
    "\n",
    "The simples transformation with intensities is a conversion between different color models. For example, you can take a color image represented by RGB (Red, Green, Blue) model and make it  grayscale. It's commonly used for simplifying images or preparing them for processing tasks.\n",
    "\n",
    "Here is an example:"
   ]
  },
  {
   "cell_type": "code",
   "execution_count": null,
   "metadata": {},
   "outputs": [],
   "source": [
    "# load Apple image from file\n",
    "import numpy as np\n",
    "from PIL import Image\n",
    "\n",
    "img = Image.open(\"datasets/Apples.jpg\")\n",
    "img"
   ]
  },
  {
   "cell_type": "code",
   "execution_count": null,
   "metadata": {},
   "outputs": [],
   "source": [
    "# show size of image and size of corresponding array\n",
    "img_arr = np.array(img)\n",
    "(img.size, img_arr.shape)"
   ]
  },
  {
   "cell_type": "markdown",
   "metadata": {},
   "source": [
    "Show elements of the array:"
   ]
  },
  {
   "cell_type": "code",
   "execution_count": null,
   "metadata": {},
   "outputs": [],
   "source": [
    "img_arr"
   ]
  },
  {
   "cell_type": "code",
   "execution_count": null,
   "metadata": {},
   "outputs": [],
   "source": [
    "# Converting an image to grayscale\n",
    "gray_img = img.convert(\"L\")\n",
    "gray_img"
   ]
  },
  {
   "cell_type": "code",
   "execution_count": null,
   "metadata": {},
   "outputs": [],
   "source": [
    "# show size of image and size of corresponding array\n",
    "gray_img_arr = np.array(gray_img)\n",
    "(gray_img.size, gray_img_arr.shape)"
   ]
  },
  {
   "cell_type": "code",
   "execution_count": null,
   "metadata": {},
   "outputs": [],
   "source": [
    "# show elements of array\n",
    "gray_img_arr"
   ]
  },
  {
   "cell_type": "markdown",
   "metadata": {},
   "source": [
    "As you can see the gray scale image is represented by 2D array, not 3D, as we expected.\n",
    "\n",
    "There is also a possibility to convert to a binary image, with only two values. We will discuss it a bit later in the class."
   ]
  },
  {
   "cell_type": "markdown",
   "metadata": {},
   "source": [
    "### Point operations\n",
    "\n",
    "Point operations let you apply any function to compute a new intensity of each pixel. If image is color it will apply this function to each channel. For example, in the code below we do a threshold operation — compare intensity of every pixel on grayscale image with 128 and return either 0 (if intensity is below or equal to 128) or 255 (if it is above) as a result."
   ]
  },
  {
   "cell_type": "code",
   "execution_count": null,
   "metadata": {},
   "outputs": [],
   "source": [
    "# compare intensity of every pixel with 128 and return either 255 or 0\n",
    "bw_img = gray_img.point(lambda p: 255 if p > 128 else 0)\n",
    "bw_img"
   ]
  },
  {
   "cell_type": "markdown",
   "metadata": {},
   "source": [
    "You can do a more sophisticated operations, e.g. use exponential or logarithmic functions to change intensity of dark and light parts of the image.\n",
    "\n",
    "You can also apply this function to color image, every color channel will be processed the same way:"
   ]
  },
  {
   "cell_type": "code",
   "execution_count": null,
   "metadata": {},
   "outputs": [],
   "source": [
    "# apply threshold to the color image\n",
    "img_thresholded = img.point(lambda p: 255 if p > 128 else 0)\n",
    "img_thresholded"
   ]
  },
  {
   "cell_type": "markdown",
   "metadata": {},
   "source": [
    "In general, it is easier to do point wise operations directly with arrays, as this will give more flexibility. Just remember, that some of the operations will result in floating point numbers outside the [0, 255] range, so you have to rescale the intensities and convert to integer.\n",
    "\n",
    "Just a quick example:"
   ]
  },
  {
   "cell_type": "code",
   "execution_count": null,
   "metadata": {},
   "outputs": [],
   "source": [
    "# convert image to NumPy array\n",
    "img_arr_in = np.array(img)\n",
    "\n",
    "# create empty array for the processed image\n",
    "img_arr_out = np.zeros(img_arr_in.shape, dtype=int)\n",
    "\n",
    "# loop over color channels\n",
    "for c in range(0, 3):\n",
    "\n",
    "    # get slice of array corresponding to a given channel\n",
    "    x = img_arr_in[:, :, c]\n",
    "\n",
    "    # compute logarithm of intensities (we add 0.1 to avoid log(0))\n",
    "    x = np.log(x + 0.1)\n",
    "\n",
    "    # rescale the intensities so they will be between 0 and 1\n",
    "    x = (x - x.min()) / (x.max() - x.min())\n",
    "\n",
    "    # multiply the rescaled intensities to 255 and save to array\n",
    "    img_arr_out[:, :, c] = x * 255\n",
    "\n",
    "# convert the array to Image object and show\n",
    "img_out = Image.fromarray(np.uint8(img_arr_out))\n",
    "img_out"
   ]
  },
  {
   "cell_type": "markdown",
   "metadata": {},
   "source": [
    "Try to play with the code but using different functions instead of logarithm (e.g. power, square root, etc.)."
   ]
  },
  {
   "cell_type": "markdown",
   "metadata": {},
   "source": [
    "## Filtering/convolution\n",
    "\n",
    "Another way to change the intensity of pixels is to make them dependent on their neighbors. This transformation in general is called *filtering*. If filtering is implemented by taking a weighted sum of intensities in a given neighborhood this operation is called a *convolution* and the weights form a convolutional *kernel* or just a *filter*.\n",
    "\n",
    "**Open the third sheet of the [Excel file](./mlcourse.xlsm) and play with filtering example, then come back.**\n",
    "\n",
    "There are many filters available, some of them have practical meaning, e.g. removing noise on images, some of them are used mostly for creating funny effects. \n",
    "\n",
    "One of the most common family of filters is *blurring* filters — they blur fine details on an image. One of the simplest is median filter, which computes new intensity of every pixel by taking median of intensities of its neighbors. \n",
    "\n",
    "Here is an example with filter size 7 x 7 so the median intensity will be computed for a given pixel and its 48 neighbors around it:"
   ]
  },
  {
   "cell_type": "code",
   "execution_count": null,
   "metadata": {},
   "outputs": [],
   "source": [
    "# load class which contains all filters from PIL\n",
    "from PIL import ImageFilter\n",
    "\n",
    "# apply median filter with window 7x7\n",
    "blurred_img = img.filter(ImageFilter.MedianFilter(size=7))\n",
    "blurred_img"
   ]
  },
  {
   "cell_type": "markdown",
   "metadata": {},
   "source": [
    "PIL/Pillow contains a lot of predefined filters, you can see them by typing `ImageFilter.` so Jupyter notebook will show everything this class contains, including methods and predefined values. The predefined filters are named using capital letters, like:\n",
    "\n",
    "```python\n",
    "ImageFilter.BLUR\n",
    "ImageFilter.EDGE_ENHANCE\n",
    "```\n",
    "\n",
    "There are also several functions which can construct filters using various additional parameters, like you already tried above (median filter). Here is another one:\n",
    "\n",
    "```python\n",
    "f = ImageFilter.GaussianBlur(radius=2)\n",
    "```\n",
    "\n",
    "Here is an example of using Gaussian blur:"
   ]
  },
  {
   "cell_type": "code",
   "execution_count": null,
   "metadata": {},
   "outputs": [],
   "source": [
    "img_gb = img.filter(ImageFilter.GaussianBlur(radius=2))\n",
    "img_gb"
   ]
  },
  {
   "cell_type": "markdown",
   "metadata": {},
   "source": [
    "As you can see in this case it blurs both edges and surfaces of apples while the median filter keeps the edges sharp.\n",
    "\n",
    "You can also create your own filter by providing weights of the convolutional kernel. For example the following filter will enhance vertical lines on the image:"
   ]
  },
  {
   "cell_type": "code",
   "execution_count": null,
   "metadata": {},
   "outputs": [],
   "source": [
    "# create manual filter (size, weights by row, scale, offset)\n",
    "f = ImageFilter.Kernel((3, 3), (-1, 0, 1, -1, 0, 1, -1, 0, 1), 1, 0)\n",
    "\n",
    "# apply and show the result\n",
    "img_filtered = img.filter(f)\n",
    "img_filtered"
   ]
  },
  {
   "cell_type": "markdown",
   "metadata": {},
   "source": [
    "## Batch processing\n",
    "\n",
    "Of course you can apply any of the transformations together and to a large number of images simultaneously. This is usually called as *batch processing*. In order to do that follow the guidelines:\n",
    "\n",
    "1. Create a function which applies all transformation you need to one single image.\n",
    "2. Put all images that you want to transform to a dedicated folder.\n",
    "3. Create an empty folder for the transformed images.\n",
    "\n",
    "After that let Python do the job for you. It has a specific library, `os`, which can work with files, read a list of files from a directory, etc. \n",
    "\n",
    "Let's first write a transformation function which creates a mask (new image consisting of 0 and 255 only). And then multiplies the original image to the mask, crop the result, and return it. Check how it works:\n"
   ]
  },
  {
   "cell_type": "code",
   "execution_count": null,
   "metadata": {},
   "outputs": [],
   "source": [
    "from PIL import ImageFilter, ImageChops\n",
    "\n",
    "def transform(img):\n",
    "\n",
    "    # convert image to grayscale and save to new image\n",
    "    mask = img.convert(\"L\")\n",
    "\n",
    "    # apply median blur\n",
    "    mask = mask.filter(ImageFilter.MedianFilter(size=9))\n",
    "\n",
    "    # apply threshold and convert back to RGB\n",
    "    mask = mask.point(lambda p: 255 if p < 150 else 0)\n",
    "    mask = mask.convert(\"RGB\")\n",
    "\n",
    "    # multiply the original image to mask\n",
    "    new_img =  ImageChops.multiply(img, mask)\n",
    "\n",
    "    # crop 20% around the new image\n",
    "    width, height = img.size\n",
    "\n",
    "    left = int(width * 0.20)\n",
    "    right = left + int(width * 0.60)\n",
    "    top = int(height * 0.20)\n",
    "    bottom = top + int(height * 0.60)\n",
    "\n",
    "    new_img = new_img.crop((left, top, right, bottom))\n",
    "\n",
    "    return new_img"
   ]
  },
  {
   "cell_type": "markdown",
   "metadata": {},
   "source": [
    "Let's apply the function to another image, `IG_101958.jpg`, which is located in folder `datasets/images`. Here is the original image:"
   ]
  },
  {
   "cell_type": "code",
   "execution_count": null,
   "metadata": {},
   "outputs": [],
   "source": [
    "img = Image.open(\"datasets/images/IG_101958.jpg\")\n",
    "img"
   ]
  },
  {
   "cell_type": "markdown",
   "metadata": {},
   "source": [
    "And here is the result of transformation:"
   ]
  },
  {
   "cell_type": "code",
   "execution_count": null,
   "metadata": {},
   "outputs": [],
   "source": [
    "img_transformed = transform(img)\n",
    "img_transformed\n"
   ]
  },
  {
   "cell_type": "markdown",
   "metadata": {},
   "source": [
    "Now let's learn how to use library `os` to get all files from a specific folder:"
   ]
  },
  {
   "cell_type": "code",
   "execution_count": null,
   "metadata": {},
   "outputs": [],
   "source": [
    "import os\n",
    "\n",
    "# defining a directory containing images\n",
    "img_dir = \"datasets/images/\"\n",
    "\n",
    "# listing all files in the directory\n",
    "img_files = os.listdir(img_dir)\n",
    "\n",
    "img_files"
   ]
  },
  {
   "cell_type": "markdown",
   "metadata": {},
   "source": [
    "As you can see, the method `os.listdir()` returns a list of all files located inside this folder. Now we can loop over the files and do the batch processing:"
   ]
  },
  {
   "cell_type": "code",
   "execution_count": null,
   "metadata": {},
   "outputs": [],
   "source": [
    "from PIL import Image\n",
    "import os\n",
    "\n",
    "# Specifying your input and output folders\n",
    "input_folder = \"datasets/images/\"\n",
    "output_folder = \"datasets/processed-images/\"\n",
    "\n",
    "# making sure the output folder exists, or create it\n",
    "os.makedirs(output_folder, exist_ok=True)\n"
   ]
  },
  {
   "cell_type": "code",
   "execution_count": null,
   "metadata": {},
   "outputs": [],
   "source": [
    "files = os.listdir(input_folder)\n",
    "\n",
    "# looping through each file in the input folder\n",
    "for filename in files:\n",
    "\n",
    "    # check if file is JPEG image and if so do processing\n",
    "    if filename.endswith(\".jpg\"):\n",
    "\n",
    "        # make full path to the input and output image\n",
    "        input_path = os.path.join(input_folder, filename)\n",
    "        output_path = os.path.join(output_folder, filename)\n",
    "\n",
    "        # read the image from file\n",
    "        img = Image.open(input_path)\n",
    "\n",
    "        # apply transformations\n",
    "        new_img = transform(img)\n",
    "\n",
    "        # save the transformed image to the output folder\n",
    "        new_img.save(output_path)"
   ]
  },
  {
   "cell_type": "markdown",
   "metadata": {},
   "source": [
    "Run it and you will see that you got a new folder inside `datasets` — `processed images`. It contains the same files as in `images` but if you compare them you will see that all files in the new folder contain the transformed images.\n",
    "\n",
    "### Exercise\n",
    "\n",
    "Play with the transformation code to improve segmentation results.  "
   ]
  }
 ],
 "metadata": {
  "kernelspec": {
   "display_name": "Python 3 (ipykernel)",
   "language": "python",
   "name": "python3"
  },
  "language_info": {
   "codemirror_mode": {
    "name": "ipython",
    "version": 3
   },
   "file_extension": ".py",
   "mimetype": "text/x-python",
   "name": "python",
   "nbconvert_exporter": "python",
   "pygments_lexer": "ipython3",
   "version": "3.12.4"
  }
 },
 "nbformat": 4,
 "nbformat_minor": 4
}
